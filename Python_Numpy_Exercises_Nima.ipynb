{
 "cells": [
  {
   "cell_type": "markdown",
   "metadata": {
    "id": "zRKxVcRKldGu"
   },
   "source": [
    "# **NumPy Assignment**\n",
    "\n",
    "## Please do not use loops in any of the questions below.\n",
    "## Please do not click on \"Show code\" as well. They are just helper code or test code. Even if you click on \"Show code\", please do not change any code in the cells.\n",
    "\n"
   ]
  },
  {
   "cell_type": "markdown",
   "metadata": {
    "id": "NnTgaRyoSX0g"
   },
   "source": [
    "# **Question 1**"
   ]
  },
  {
   "cell_type": "markdown",
   "metadata": {
    "id": "pSFyOCs74XCp"
   },
   "source": [
    "Run the following cell."
   ]
  },
  {
   "cell_type": "code",
   "execution_count": 8,
   "metadata": {
    "colab": {
     "base_uri": "https://localhost:8080/"
    },
    "id": "6X4NdveMCL-Y",
    "outputId": "9e81e084-f3a0-46b2-f30e-2b2a2f0e826f"
   },
   "outputs": [
    {
     "name": "stdout",
     "output_type": "stream",
     "text": [
      "x = [ 0 10 20 30]\n",
      "y = [-5 10 20 30]\n"
     ]
    }
   ],
   "source": [
    "#@title\n",
    "# DO NOT CHANGE the following code\n",
    "import numpy as np\n",
    "\n",
    "x = np.array([0, 10, 20, 30])\n",
    "y = np.array([-5, 10, 20, 30])\n",
    "print('x =',x); print('y =',y)"
   ]
  },
  {
   "cell_type": "markdown",
   "metadata": {
    "id": "BMInDvfjCZKv"
   },
   "source": [
    "Write a NumPy program to test whether **any** of the elements in an array is zero. If any of the elements is zero, the result should be `True`."
   ]
  },
  {
   "cell_type": "code",
   "execution_count": 9,
   "metadata": {
    "id": "Cf5PGmxzC_JS"
   },
   "outputs": [
    {
     "data": {
      "text/plain": [
       "True"
      ]
     },
     "execution_count": 9,
     "metadata": {},
     "output_type": "execute_result"
    }
   ],
   "source": [
    "# Replace None with your code below to test whether array x has any zero. Should return True.\n",
    "result1 = 0 in x\n",
    "result1"
   ]
  },
  {
   "cell_type": "markdown",
   "metadata": {
    "id": "Nz3UDz5nzDKR"
   },
   "source": [
    "*Test your code by running the following cell.*"
   ]
  },
  {
   "cell_type": "code",
   "execution_count": 10,
   "metadata": {
    "cellView": "form",
    "colab": {
     "base_uri": "https://localhost:8080/"
    },
    "id": "NcM5GiO4y790",
    "outputId": "75d4e092-2a89-4a7f-f026-68ba6e42abe2"
   },
   "outputs": [
    {
     "name": "stdout",
     "output_type": "stream",
     "text": [
      "Test Passed\n"
     ]
    }
   ],
   "source": [
    "#@title\n",
    "try:\n",
    "  assert result1 == True\n",
    "  print(\"Test Passed\")\n",
    "except:\n",
    "  print(\"Error: result1 should be True\")"
   ]
  },
  {
   "cell_type": "code",
   "execution_count": 4,
   "metadata": {
    "id": "oSSwAlRjSkxw"
   },
   "outputs": [],
   "source": [
    "# Explain your code below as comments\n"
   ]
  },
  {
   "cell_type": "code",
   "execution_count": 11,
   "metadata": {
    "id": "-vcyxEbLHYta"
   },
   "outputs": [],
   "source": [
    "# Replace None with your code below to test whether array y has any zero. Should return False.\n",
    "result2 = 0 in y"
   ]
  },
  {
   "cell_type": "markdown",
   "metadata": {
    "id": "2Z4brj2SyrNU"
   },
   "source": [
    "*Test your code by running the following cell.*"
   ]
  },
  {
   "cell_type": "code",
   "execution_count": 12,
   "metadata": {
    "cellView": "form",
    "colab": {
     "base_uri": "https://localhost:8080/"
    },
    "id": "8fYx1bgat6XO",
    "outputId": "0a54ca37-a788-4da5-a740-ded276a52109"
   },
   "outputs": [
    {
     "name": "stdout",
     "output_type": "stream",
     "text": [
      "Test Passed\n"
     ]
    }
   ],
   "source": [
    "#@title\n",
    "try:\n",
    "  assert result2 == False\n",
    "  print(\"Test Passed\")\n",
    "except:\n",
    "  print(\"Error: result2 should be False\")"
   ]
  },
  {
   "cell_type": "code",
   "execution_count": 7,
   "metadata": {
    "id": "IEfHypmJ_OvH"
   },
   "outputs": [],
   "source": [
    "# Explain your code below as comments\n"
   ]
  },
  {
   "cell_type": "markdown",
   "metadata": {
    "id": "QmcTdQT9Smmk"
   },
   "source": [
    "# **Question 2**"
   ]
  },
  {
   "cell_type": "markdown",
   "metadata": {
    "id": "pkX8YW1eD7X0"
   },
   "source": [
    "Write a NumPy program to create an array with values 2, 4, 5, -2 and print the size of the memory occupied by the array."
   ]
  },
  {
   "cell_type": "code",
   "execution_count": 13,
   "metadata": {
    "colab": {
     "base_uri": "https://localhost:8080/"
    },
    "id": "TBrCZsHlD6-U",
    "outputId": "be402ad9-5dae-48c1-9341-5543caf0128d"
   },
   "outputs": [
    {
     "name": "stdout",
     "output_type": "stream",
     "text": [
      "a =  [ 2  4  5 -2]\n",
      "Memory occupied: 16\n"
     ]
    }
   ],
   "source": [
    "# Replace None with your code below. The result for memory occupied should be 32\n",
    "import sys\n",
    "import numpy as np\n",
    "lst = [2,4,5,-2]\n",
    "a = np.array(lst)\n",
    "print('a = ', a)\n",
    "# mem =  a.itemsize * a.size\n",
    "mem =a.nbytes\n",
    "print('Memory occupied:', mem)\n",
    "\n"
   ]
  },
  {
   "cell_type": "markdown",
   "metadata": {
    "id": "-lHlH2qA5Gr2"
   },
   "source": [
    "*Test your code by running the following cell.*"
   ]
  },
  {
   "cell_type": "code",
   "execution_count": 429,
   "metadata": {
    "cellView": "form",
    "colab": {
     "base_uri": "https://localhost:8080/"
    },
    "id": "zH0DBxCF3THQ",
    "outputId": "82d7508d-abd1-425d-8eee-a36b5be79f42"
   },
   "outputs": [
    {
     "name": "stdout",
     "output_type": "stream",
     "text": [
      "Excellent! Well done!\n"
     ]
    }
   ],
   "source": [
    "#@title\n",
    "# DO NOT CHANGE\n",
    "try:\n",
    "  assert mem == 16\n",
    "  print(\"Excellent! Well done!\")\n",
    "except:\n",
    "  print(\"Error: Please try again\")"
   ]
  },
  {
   "cell_type": "code",
   "execution_count": 10,
   "metadata": {
    "id": "qBqONo0A_eYV"
   },
   "outputs": [],
   "source": [
    "# Explain your code below comments"
   ]
  },
  {
   "cell_type": "markdown",
   "metadata": {
    "id": "egBevRuwSw45"
   },
   "source": [
    "# **Question 3**"
   ]
  },
  {
   "cell_type": "markdown",
   "metadata": {
    "id": "QjqSIxxLL7e7"
   },
   "source": [
    "Create a NumPy array with 20 elements each of 0, 1, 2, 3, 4, 5. Your array should look like the following.\n",
    "\n",
    "![image.png](data:image/png;base64,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)\n",
    "\n",
    "\n",
    "Please do not create the array in a manner such as: np.array([0, 0, 0, 0, 0, 0, 0, 0, 0, 0, 0, 0, 0, 0, 0, 0, 0, 0, 0, 0, 1, 1, 1, 1, 1, 1, 1, 1, 1, 1, ...])\n"
   ]
  },
  {
   "cell_type": "code",
   "execution_count": 14,
   "metadata": {
    "id": "cIYBM5n6KoO7"
   },
   "outputs": [
    {
     "data": {
      "text/plain": [
       "array([0, 0, 0, 0, 0, 0, 0, 0, 0, 0, 0, 0, 0, 0, 0, 0, 0, 0, 0, 0, 1, 1,\n",
       "       1, 1, 1, 1, 1, 1, 1, 1, 1, 1, 1, 1, 1, 1, 1, 1, 1, 1, 2, 2, 2, 2,\n",
       "       2, 2, 2, 2, 2, 2, 2, 2, 2, 2, 2, 2, 2, 2, 2, 2, 3, 3, 3, 3, 3, 3,\n",
       "       3, 3, 3, 3, 3, 3, 3, 3, 3, 3, 3, 3, 3, 3, 4, 4, 4, 4, 4, 4, 4, 4,\n",
       "       4, 4, 4, 4, 4, 4, 4, 4, 4, 4, 4, 4, 5, 5, 5, 5, 5, 5, 5, 5, 5, 5,\n",
       "       5, 5, 5, 5, 5, 5, 5, 5, 5, 5])"
      ]
     },
     "execution_count": 14,
     "metadata": {},
     "output_type": "execute_result"
    }
   ],
   "source": [
    "# Replace None with your code below. The code should be as succint as possible\n",
    "a = np.arange(0,6)\n",
    "a = np.repeat(a,20)\n",
    "a"
   ]
  },
  {
   "cell_type": "markdown",
   "metadata": {
    "id": "udZUbj_V2OIl"
   },
   "source": [
    "*Test your code by running the following cell.*"
   ]
  },
  {
   "cell_type": "code",
   "execution_count": 386,
   "metadata": {
    "cellView": "form",
    "colab": {
     "base_uri": "https://localhost:8080/"
    },
    "id": "d4F-CqvFveFt",
    "outputId": "7a889804-134a-4c94-8bfe-91c32b10a13e"
   },
   "outputs": [
    {
     "name": "stdout",
     "output_type": "stream",
     "text": [
      "Test Passed\n"
     ]
    }
   ],
   "source": [
    "#@title\n",
    "expected = np.array([0, 0, 0, 0, 0, 0, 0, 0, 0, 0, 0, 0, 0, 0, 0, 0, 0, 0, 0, 0, 1, 1,\n",
    "       1, 1, 1, 1, 1, 1, 1, 1, 1, 1, 1, 1, 1, 1, 1, 1, 1, 1, 2, 2, 2, 2,\n",
    "       2, 2, 2, 2, 2, 2, 2, 2, 2, 2, 2, 2, 2, 2, 2, 2, 3, 3, 3, 3, 3, 3,\n",
    "       3, 3, 3, 3, 3, 3, 3, 3, 3, 3, 3, 3, 3, 3, 4, 4, 4, 4, 4, 4, 4, 4,\n",
    "       4, 4, 4, 4, 4, 4, 4, 4, 4, 4, 4, 4, 5, 5, 5, 5, 5, 5, 5, 5, 5, 5,\n",
    "       5, 5, 5, 5, 5, 5, 5, 5, 5, 5])\n",
    "\n",
    "try: \n",
    "  assert np.allclose(a,expected)\n",
    "  print(\"Test Passed\")\n",
    "except:\n",
    "  print(\"Error: Please fix your code and try again.\")\n"
   ]
  },
  {
   "cell_type": "code",
   "execution_count": 13,
   "metadata": {
    "id": "BVzoQVCC_uo8"
   },
   "outputs": [],
   "source": [
    "# Explain your code below as comments\n"
   ]
  },
  {
   "cell_type": "markdown",
   "metadata": {
    "id": "7eM3Emr-TV5Z"
   },
   "source": [
    "# **Question 4**"
   ]
  },
  {
   "cell_type": "markdown",
   "metadata": {
    "id": "_sb_p8k7M7Xw"
   },
   "source": [
    "Create a NumPy array of integers (3x4 array) as shown below, using `arange()` and `reshape()` in one line of code. \n",
    "\n",
    "![image.png](data:image/png;base64,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)\n"
   ]
  },
  {
   "cell_type": "code",
   "execution_count": 356,
   "metadata": {
    "id": "e9GVU9lgNdPE"
   },
   "outputs": [
    {
     "data": {
      "text/plain": [
       "array([[12, 13, 14, 15],\n",
       "       [16, 17, 18, 19],\n",
       "       [20, 21, 22, 23]])"
      ]
     },
     "execution_count": 356,
     "metadata": {},
     "output_type": "execute_result"
    }
   ],
   "source": [
    "# Replace None with your code below\n",
    "a = np.arange(12,24).reshape(3,4)\n",
    "a"
   ]
  },
  {
   "cell_type": "markdown",
   "metadata": {
    "id": "9PAIlgw36m5Q"
   },
   "source": [
    "*Test your code by running the following cell.*"
   ]
  },
  {
   "cell_type": "code",
   "execution_count": 357,
   "metadata": {
    "cellView": "form",
    "colab": {
     "base_uri": "https://localhost:8080/"
    },
    "id": "2I9x9fW853ME",
    "outputId": "05cfcfda-b355-4e8c-f4e0-de1b7f446d54"
   },
   "outputs": [
    {
     "name": "stdout",
     "output_type": "stream",
     "text": [
      "Awesome!\n"
     ]
    }
   ],
   "source": [
    "#@title\n",
    "# DO NOT CHANGE\n",
    "expected = np.array([[12, 13, 14, 15],\n",
    "       [16, 17, 18, 19],\n",
    "       [20, 21, 22, 23]])\n",
    "try:\n",
    "  assert np.allclose(a, expected)\n",
    "  print(\"Awesome!\")\n",
    "except:\n",
    "  print(\"Error: Try again!\")"
   ]
  },
  {
   "cell_type": "code",
   "execution_count": 16,
   "metadata": {
    "id": "m2kDwha1_3Tb"
   },
   "outputs": [],
   "source": [
    "# Explain your code below as comments\n"
   ]
  },
  {
   "cell_type": "markdown",
   "metadata": {
    "id": "7zu27ZHzTqno"
   },
   "source": [
    "# **Question 5**"
   ]
  },
  {
   "cell_type": "markdown",
   "metadata": {
    "id": "47aklWHOPJeM"
   },
   "source": [
    "Write a NumPy program to create an array of 1000 random numbers from a normal (gaussian) distribution with mean of 10 and standard deviation of 1.5."
   ]
  },
  {
   "cell_type": "code",
   "execution_count": 351,
   "metadata": {
    "id": "iyS20wtfPf1S"
   },
   "outputs": [
    {
     "data": {
      "text/plain": [
       "array([11.04327966,  8.53078875,  7.6397645 ,  5.61254414,  9.47015175,\n",
       "       11.87140956, 10.04960894, 10.76776604, 11.53485732,  8.67678123])"
      ]
     },
     "execution_count": 351,
     "metadata": {},
     "output_type": "execute_result"
    }
   ],
   "source": [
    "rng = np.random.default_rng(14)\n",
    "a =rng.normal(10,1.5,1000)\n",
    "# Replace None with your code below\n",
    "a[0:10]"
   ]
  },
  {
   "cell_type": "markdown",
   "metadata": {
    "id": "QeGEU4Ea-xmH"
   },
   "source": [
    "*Test your code by running the following cell.*"
   ]
  },
  {
   "cell_type": "code",
   "execution_count": 352,
   "metadata": {
    "cellView": "form",
    "colab": {
     "base_uri": "https://localhost:8080/"
    },
    "id": "nihd7AXS7cx0",
    "outputId": "6f235748-b2f0-42db-9a48-a7cb26d535ce"
   },
   "outputs": [
    {
     "name": "stdout",
     "output_type": "stream",
     "text": [
      "All good!\n"
     ]
    }
   ],
   "source": [
    "#@title\n",
    "expected = np.array([11.04327966,  8.53078875,  7.6397645 ,  5.61254414,  9.47015175,\n",
    "       11.87140956, 10.04960894, 10.76776604, 11.53485732,  8.67678123,\n",
    "       13.97843005,  8.68463762, 10.56032959, 14.10937123,  9.82862138,\n",
    "       10.17144177,  9.23218068, 10.50178973,  6.80997446,  9.02978686,\n",
    "       12.5411398 , 10.3169892 ,  9.63940222, 10.55939273, 10.62191022,\n",
    "       10.2281549 , 10.8678818 ,  7.5106048 , 10.88688292,  8.98970984,\n",
    "       11.17870396,  9.96812995,  8.50272574,  9.89180351,  8.48937978,\n",
    "       11.51909763,  9.95710261, 11.27963757,  8.3274159 , 12.42912601,\n",
    "        9.54840804, 12.04789876, 11.28107702,  8.3485823 , 10.48473173,\n",
    "        9.18632451, 10.61404673, 12.14871783, 11.03300625, 11.60190383,\n",
    "        8.24264573, 10.30591779, 10.53860766, 11.63334656,  9.07086501,\n",
    "       10.85317914, 10.64420696,  7.71352244,  8.44041496, 10.66700621,\n",
    "        8.23514798,  8.15962544, 11.34286003, 10.42834943,  9.64726564,\n",
    "       10.15824039,  9.39321126,  9.1946059 ,  9.30911735, 10.57909286,\n",
    "       11.98195553,  9.29386471,  9.89701408,  9.67258285,  8.10995836,\n",
    "       10.37791209, 11.30014808,  8.73447253, 11.24964604,  9.1424986 ,\n",
    "       11.72695076, 11.82379838,  9.42539052,  6.99858964,  9.47801725,\n",
    "        7.91318844,  8.0279189 ,  9.62075944, 12.04067491,  9.86184021,\n",
    "        9.67062979,  7.22425098,  9.09081331,  7.90737524, 10.78049162,\n",
    "        9.20763162,  9.93413594,  9.97493736,  9.71833776, 11.42885171,\n",
    "       10.73018869,  9.52055909, 10.23063867, 10.82916284, 12.05701785,\n",
    "       10.19474204, 12.17142841,  9.10873673,  9.64925244,  7.76919267,\n",
    "       11.23284388,  8.45108713,  8.45130431, 11.26314111,  9.20101202,\n",
    "        8.87032789, 11.4295685 ,  9.72354957, 11.38050773,  9.39597614,\n",
    "       11.08999883, 11.61781167, 10.1234378 , 12.69849885,  9.4057892 ,\n",
    "        9.68240452, 10.11905649, 11.50828074,  9.56860963,  9.34511278,\n",
    "       10.38060604, 11.87477081,  9.37515185,  8.08352162,  9.80372291,\n",
    "       10.9356447 ,  9.18581219, 10.1863707 ,  7.19651937, 10.03191647,\n",
    "       10.15410694, 10.93374792, 10.46391145, 11.15766642,  8.50843658,\n",
    "       10.99043298,  7.52311455,  9.10471873, 11.65878617, 11.27677507,\n",
    "        7.22047902, 10.88262649,  9.35379657,  8.8331182 , 10.30667981,\n",
    "       10.19336215, 12.09148326,  7.83703672,  9.35743576,  9.78618219,\n",
    "        7.23905299, 11.75964113, 12.63412883,  9.06232015, 10.57232986,\n",
    "        9.59634057, 10.40560184,  8.98671343, 11.24733064,  8.25158523,\n",
    "       12.04508349, 10.5345418 , 13.63710758,  7.523035  ,  9.85672214,\n",
    "        8.07167495,  9.79011382, 10.65267131,  8.62072862,  7.84738413,\n",
    "        7.39934811, 10.33127934, 11.9150362 , 11.75782321, 10.0506304 ,\n",
    "        8.55750193,  9.45505461,  7.73816393,  7.63548059, 11.59891674,\n",
    "        9.58277683, 10.47166228,  9.58974148, 11.9873806 , 12.15628839,\n",
    "        8.83576339,  9.45085931,  8.98717176, 11.97664119, 11.86990248,\n",
    "        9.56456826, 13.44908909, 10.03961108,  8.17609889,  6.95001136,\n",
    "        9.7843749 , 10.48198001,  9.12009473, 10.54464329, 11.79262702,\n",
    "        9.91026469, 11.26434119, 12.49686263, 10.74657389,  9.12914604,\n",
    "       10.64770616, 10.80503649, 13.20617929,  9.3481466 ,  7.67442523,\n",
    "       10.44820307, 10.48869122,  9.37648139, 10.84709139, 10.47733596,\n",
    "       11.81651426,  8.7473351 ,  8.94632661,  9.9661529 ,  9.23831943,\n",
    "       11.90662884, 10.86868168,  9.96667211, 12.2915832 , 10.75238344,\n",
    "       11.4992351 , 11.20752156,  9.77888269,  9.78952217, 10.01103429,\n",
    "        8.3636225 ,  9.48260099, 11.28141367, 10.46459246,  8.58429556,\n",
    "       13.54517621,  8.45473527, 10.93389631, 11.0880786 , 11.91588428,\n",
    "        8.71087513, 10.03746742,  9.71402305, 11.7217349 , 10.58742881,\n",
    "       10.64165759, 10.82771873, 12.96341275, 11.03848156, 11.35401544,\n",
    "        8.64005097, 11.08477978,  8.17590086, 11.47338879, 10.28471631,\n",
    "        8.74097616,  8.35053153,  9.93766612, 10.26584971,  9.24134424,\n",
    "        9.59504025,  9.63132696,  9.30028224,  9.81233835, 10.50785997,\n",
    "       12.0513601 , 11.0692875 ,  9.26658094, 12.54824836, 11.90098869,\n",
    "        9.74961152, 11.66431847,  9.34278527,  9.01531237,  9.06810348,\n",
    "       12.58181445, 10.36678068, 10.63525507, 10.2657162 ,  9.56522369,\n",
    "       10.89982453, 11.19334755, 13.12287383,  8.91517615, 12.48721806,\n",
    "       11.19493085,  7.61002083, 11.66120943, 12.62369608, 11.84499086,\n",
    "       10.57533835, 10.4497206 ,  7.24001563, 10.69317168, 10.48078914,\n",
    "        8.81583794, 10.50679313,  9.21559613, 13.58525861,  8.37420163,\n",
    "        8.84332048,  6.9461839 ,  9.57265334, 10.33273976, 10.16538644,\n",
    "        9.18181902, 11.44837891, 10.4882263 , 11.90764104,  9.95589234,\n",
    "        7.48336152,  9.89652596,  8.59632587, 11.34508351,  9.18927737,\n",
    "        9.72616507, 10.05895712,  7.80172011,  9.49486793, 11.37744003,\n",
    "        9.21061524,  9.81227929, 10.30351504,  9.0424219 ,  9.60757569,\n",
    "       10.70229785,  9.47477979, 10.11839898,  9.82276628,  8.46666735,\n",
    "        8.09137261, 12.99495014, 12.09073831,  9.84495548, 11.44653795,\n",
    "       11.68075649, 11.46322827,  9.47893644,  7.87760482,  8.13633355,\n",
    "        9.66671569, 12.04515309, 12.36230051,  9.66910446,  9.52951178,\n",
    "       11.83051438, 13.1143748 ,  8.64951703, 10.73700141, 10.25217788,\n",
    "        9.55562269,  9.56072513,  9.53974172, 10.03228311,  7.73616056,\n",
    "       10.03695478, 11.21881254, 11.17118055, 11.22722531, 10.53808305,\n",
    "       10.33501572, 12.95522622,  9.7797048 , 10.28683772, 11.91297457,\n",
    "       10.10558404,  8.11381667,  9.22339453,  9.40307241,  9.81598827,\n",
    "        9.37447972, 11.53011643, 11.10546666, 10.77509599,  9.45056345,\n",
    "       11.58472619, 11.53330064, 13.327928  ,  9.14791322,  9.89591712,\n",
    "       12.12681602,  8.44573278, 10.45910011, 10.39392822, 10.14857358,\n",
    "        8.65604855, 10.12704818,  7.84766167, 11.84654425,  9.33840211,\n",
    "       10.29693091, 10.03939839, 10.3398071 , 10.24112996, 10.68584011,\n",
    "        9.50967593, 10.09684918,  8.39343054,  8.48483443,  8.77378797,\n",
    "        8.53220841,  7.99066815,  9.0997414 , 10.97034475, 10.6494088 ,\n",
    "        9.41143526, 10.50223651, 10.5797829 , 14.0247208 ,  7.66545677,\n",
    "       10.41076381,  8.08461418, 11.91447203,  9.72106523, 10.70566176,\n",
    "       10.34813442, 11.09057534,  5.70393062,  8.33053277, 10.17671391,\n",
    "        8.07455483, 10.8776655 , 11.8941923 ,  8.12514363,  9.41664145,\n",
    "       10.99370994, 12.76278645, 11.56279098, 11.1437984 ,  8.75891331,\n",
    "       10.10318206, 10.24810661,  9.15788566, 10.6757746 ,  9.59403162,\n",
    "        9.39937589, 13.22795488,  9.80806566, 12.84579595,  9.48107406,\n",
    "        9.93952444,  8.19402447,  9.18937673, 12.40683583, 10.06390463,\n",
    "        7.05982217, 12.15434363,  8.698991  ,  9.39504197,  9.95839444,\n",
    "        7.2108372 , 12.31628692, 11.93043935,  9.51558585, 10.53657265,\n",
    "        9.57742718,  9.11564775,  9.65468527,  7.85143178,  9.39517789,\n",
    "        9.16497921, 12.85522174,  7.81390537, 11.88694735, 11.06703585,\n",
    "       10.22116409,  9.10222867, 12.69748996, 12.17585406,  9.93560865,\n",
    "        9.70508251, 10.28164622, 12.72545   ,  8.64303351, 10.1241129 ,\n",
    "       11.69722613,  7.92570429,  9.87758637, 11.66428781,  9.34720225,\n",
    "        9.83300638,  7.69005914, 10.56790433,  8.24010591,  9.41749504,\n",
    "       10.50318641,  9.16432708, 11.29734735, 11.06626724, 10.7216707 ,\n",
    "       11.46569699,  9.75322512,  6.77739337, 11.28498047, 11.15409589,\n",
    "        9.28956088,  8.74493197, 11.72376809,  9.28881899,  9.41952751,\n",
    "        9.32527508, 13.47837042,  8.91236417,  6.10954999,  9.78935826,\n",
    "        8.38554539,  7.29910992, 10.07493693,  9.07291451, 11.16710054,\n",
    "        9.3509938 , 11.6074026 , 11.30366908,  9.87455664, 10.98225713,\n",
    "       12.52620499, 10.85497383,  7.69575934,  9.94535807, 10.13402384,\n",
    "       11.68711811,  9.63592436, 11.50473783,  9.63792392,  9.86831275,\n",
    "        9.4749445 ,  9.83922171,  9.6044156 , 10.32320363,  8.6795851 ,\n",
    "        8.25722764,  9.67850659, 10.02450873,  9.20007074, 10.39419605,\n",
    "       10.289273  , 12.29763818,  7.61649622, 12.7259743 ,  6.29032206,\n",
    "        7.12801578, 10.13836899,  8.31469546,  9.27110435,  9.04822925,\n",
    "        7.75495165,  7.65850414,  9.1140515 , 10.21296178, 10.57439875,\n",
    "        9.93118792,  9.19251935, 11.45077685,  6.43341859,  9.7180169 ,\n",
    "       11.56314611, 12.07427103, 11.46906062, 11.68684325, 11.22728989,\n",
    "        9.89377046,  6.37402463,  8.95136125,  9.29823847, 12.06068966,\n",
    "        9.07527991,  9.19300781, 10.70102672,  8.28404603,  9.77964877,\n",
    "       10.55552232,  9.25346594,  9.6451463 ,  7.09328749,  7.8865108 ,\n",
    "        9.35705626, 11.43244495,  8.87653562,  8.35354723,  8.53310601,\n",
    "       10.70212104,  7.59747356,  9.96983503,  9.18154615,  9.82519424,\n",
    "        8.61022327,  9.85663423, 11.74981739,  9.3008404 ,  8.99446344,\n",
    "        5.90525229, 10.43854891,  8.77155542, 10.30346577,  9.89903679,\n",
    "        8.55606464,  8.77657474,  7.735094  , 12.71172169, 11.13365126,\n",
    "       10.9917024 , 11.5420681 , 11.83583251, 11.05387703, 11.30862867,\n",
    "       13.48233036,  7.23999629, 10.10091591,  8.88561517,  9.90683471,\n",
    "        6.06722193,  8.21993308, 11.0463585 ,  7.96516757, 10.66936344,\n",
    "        8.61182694,  9.60133795,  7.59756896,  8.9388599 ,  7.61072495,\n",
    "       10.68616631,  7.27196563, 10.36672491,  9.06907724,  9.64195369,\n",
    "       12.03866321,  9.52627393,  8.96254845,  9.94353294, 10.97524487,\n",
    "        9.12270333, 12.4862156 , 10.21326437,  9.4240951 ,  8.98764014,\n",
    "        9.74483746, 10.81743615, 11.55909618, 10.10219353,  9.11647003,\n",
    "        9.9314679 ,  6.85878348, 11.67102428, 11.25363085,  9.72839784,\n",
    "       11.07441305,  8.5666992 , 12.75467757,  9.8978937 ,  9.48471115,\n",
    "       13.31245289,  8.84083463, 10.9421169 ,  9.09412453,  9.56152046,\n",
    "        9.96187375,  9.53090215, 12.58605993, 12.04609291,  9.56601623,\n",
    "       13.97958263, 10.35396173, 10.151769  , 11.01617386,  8.87372847,\n",
    "       12.41857884,  9.04734699,  8.52081215, 11.96904777,  9.00193483,\n",
    "        9.97921308,  8.53685936,  9.66259365, 10.46184565,  6.71384999,\n",
    "       10.1641803 ,  9.05815428, 12.33579402, 13.25806617, 11.01460691,\n",
    "       11.10293571, 11.78765032, 11.79211192,  8.05996137,  8.21708823,\n",
    "        9.43419589,  8.07502967,  9.63419823, 10.27298958,  8.91590426,\n",
    "       10.79375505, 12.23888907, 10.16147498, 10.72717908, 10.02620283,\n",
    "        9.95342584,  9.30248019,  8.39127431, 10.89628812, 11.67068424,\n",
    "        9.98418752, 10.19788237,  8.00368379,  9.68118362, 10.48208858,\n",
    "        9.88270987, 10.10818217,  8.52800346,  8.12636019,  9.63946516,\n",
    "       12.21598864,  9.4371622 ,  7.780853  ,  9.02319152,  9.68882295,\n",
    "       11.78943925, 11.59437596,  8.80551991,  8.4982951 ,  9.60975724,\n",
    "        9.97171595,  8.50566284, 11.40447007,  9.32808754, 10.34658024,\n",
    "        9.68130502, 10.72753553,  9.7947671 , 10.32975261, 11.78336216,\n",
    "       10.30546694, 12.09655735,  8.08332074,  9.66241415,  8.4056333 ,\n",
    "        7.84184546,  9.87905372, 12.75190465, 10.29404102, 11.41528089,\n",
    "        7.10083156, 10.2677987 ,  8.22142911, 10.25049369, 11.42988586,\n",
    "        9.19154691, 11.49949839,  8.72771808, 10.03387791,  8.93506316,\n",
    "        9.98409865,  9.61800205,  6.5977869 ,  9.30278623,  9.09315119,\n",
    "       12.31430229,  6.12622746,  9.93203186, 11.02224438, 12.61877274,\n",
    "       11.73536017,  9.74067052, 11.95000762,  9.61858365,  9.53038113,\n",
    "        9.30026905,  9.24806454, 12.0567843 ,  7.37129318,  7.5013398 ,\n",
    "       11.19038688, 10.47184126, 11.04324364,  9.39433404, 10.74585506,\n",
    "        9.40120657,  8.99668781,  9.09667219,  9.94157325,  9.83440895,\n",
    "        9.14315391, 12.06794744, 10.38340448,  9.20298081,  7.77011265,\n",
    "        9.59666861,  7.29189277,  8.37925076,  7.9917469 ,  8.37025654,\n",
    "        9.93759185,  4.86270712, 11.80242047, 10.27573732,  8.9627916 ,\n",
    "        8.69305456, 10.67038593,  9.42608439, 12.16852972,  9.372279  ,\n",
    "        8.20983446,  7.47241642,  9.44063075, 11.11653288,  7.77569321,\n",
    "       11.46697535, 10.83217718,  9.12177007, 11.49353374,  6.99916259,\n",
    "        6.34381795, 10.00164294, 10.21566921, 10.15102992,  9.53195173,\n",
    "        7.41443787, 10.411925  ,  9.06453651, 10.90146295,  9.9190709 ,\n",
    "        7.87473751, 10.50834149, 10.80252053, 10.79196011,  8.55848588,\n",
    "        8.06144261, 10.79656642,  9.52426462,  9.43976776, 11.10613286,\n",
    "       11.18780802, 10.37513402,  9.29597118, 11.86381591,  8.07821371,\n",
    "        9.62051219, 10.10895525,  7.57051824,  8.55578029, 10.93609502,\n",
    "        9.506878  ,  8.04994903, 12.12251358,  9.91604629,  9.79606782,\n",
    "       12.37687334,  7.44124951,  8.84468603,  8.2759466 , 11.62452402,\n",
    "        8.4290903 , 13.17849986, 10.3707704 , 10.11520331, 11.12228299,\n",
    "        9.33490631,  8.30189963,  8.75203301,  9.69670708,  8.19150759,\n",
    "        9.85611957,  8.70318509,  9.34172559,  9.54071671, 12.03655302,\n",
    "       13.12309761, 12.50962704,  9.57254115,  8.80222285, 11.45526331,\n",
    "       11.89361625, 11.3341534 ,  9.06333113, 10.43103703,  9.57710714,\n",
    "       11.53724277, 11.38402827, 10.33301652,  9.38816864, 12.63610569,\n",
    "       10.3107045 , 11.26881244, 10.87393246, 11.2272393 , 11.80960379,\n",
    "        9.5426394 ,  9.39740564, 10.98456333,  5.25235746,  9.96719386,\n",
    "        9.35287054, 11.1607986 , 10.58195575,  9.78587018,  8.32656843,\n",
    "        9.80899083,  9.59120334, 10.16725278, 10.39368875,  9.00305244,\n",
    "       10.84483714,  9.26173322, 10.67320958, 10.47456763, 11.92837668,\n",
    "       10.0315096 , 12.44306727,  9.50970685,  8.73267619, 11.00443464,\n",
    "        8.1861288 , 10.58809951, 10.61348448, 10.31187017, 10.64219894,\n",
    "       10.33674647, 11.9486813 ,  9.85439637,  7.11673033,  9.4932836 ,\n",
    "       11.28921405, 11.52358988, 11.06160188, 10.09393119,  8.66295423,\n",
    "       12.37712117,  9.1718811 ,  8.3973185 ,  6.40490383, 12.87746592,\n",
    "       10.01225715,  7.25567072, 11.30989687, 11.00724897,  7.50659643,\n",
    "       11.17812313, 10.03699176, 11.0181331 , 12.05114706,  9.37641586,\n",
    "       13.25948813,  9.8422233 ,  9.10703741, 11.76305901,  8.99049639,\n",
    "        9.46572746, 11.21168462,  8.64823467,  7.93721029, 10.36156745,\n",
    "        9.89917194,  9.05823604, 11.30325526,  8.1113937 , 11.00046867,\n",
    "        8.26347242, 10.56104349,  8.02575453, 10.80482828,  9.73757306,\n",
    "        9.18405275,  9.9088594 ,  9.58454617, 11.02295415,  8.79009631,\n",
    "       10.41826728,  9.29787026,  8.83723177,  8.99237414,  8.09350667,\n",
    "       10.22198403,  9.86603942, 10.25448393,  7.32309738,  9.04882754,\n",
    "       11.94138647, 11.51760047,  9.53513373,  9.73413689, 10.01346634,\n",
    "       11.31654677, 11.9301214 , 10.19855097, 10.14414755,  9.74982335,\n",
    "       10.28121167, 12.43021592,  8.82065137, 10.76358637,  8.10088626])\n",
    "\n",
    "try:\n",
    "  assert np.allclose(a, expected)\n",
    "  print(\"All good!\")\n",
    "except:\n",
    "  print(\"Error: Please try again!\")"
   ]
  },
  {
   "cell_type": "code",
   "execution_count": 20,
   "metadata": {
    "id": "V68Q9SDY_973"
   },
   "outputs": [],
   "source": [
    "# Explain your code below as comments\n"
   ]
  },
  {
   "cell_type": "markdown",
   "metadata": {
    "id": "c5HhGX_cTz9B"
   },
   "source": [
    "# **Question 6**"
   ]
  },
  {
   "cell_type": "markdown",
   "metadata": {
    "id": "-5FS03-4R0PZ"
   },
   "source": [
    "Plot the histogram of the above array (from Q5). \n",
    "\n",
    "Your histogram should be similar to the plot shown below.\n",
    "\n",
    "![image.png](data:image/png;base64,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)\n",
    "\n",
    "As you notice, the histrogram follows a bell curve (normal distribution)."
   ]
  },
  {
   "cell_type": "code",
   "execution_count": 353,
   "metadata": {
    "id": "27p290y_QVdT"
   },
   "outputs": [
    {
     "data": {
      "text/plain": [
       "(array([  4.,  10.,  43., 112., 195., 266., 183., 127.,  44.,  16.]),\n",
       " array([ 4.86270712,  5.78737353,  6.71203994,  7.63670635,  8.56137276,\n",
       "         9.48603917, 10.41070558, 11.33537199, 12.26003841, 13.18470482,\n",
       "        14.10937123]),\n",
       " <BarContainer object of 10 artists>)"
      ]
     },
     "execution_count": 353,
     "metadata": {},
     "output_type": "execute_result"
    },
    {
     "data": {
      "image/png": "[encoded data removed]",
      "text/plain": [
       "<Figure size 432x288 with 1 Axes>"
      ]
     },
     "metadata": {
      "needs_background": "light"
     },
     "output_type": "display_data"
    }
   ],
   "source": [
    "# Write your code below\n",
    "import matplotlib.pyplot as plt\n",
    "plt.hist(a)"
   ]
  },
  {
   "cell_type": "code",
   "execution_count": 22,
   "metadata": {
    "id": "LeaWWEghAHif"
   },
   "outputs": [],
   "source": [
    "# Explain your code below as comments\n"
   ]
  },
  {
   "cell_type": "markdown",
   "metadata": {
    "id": "z34xgkH3UPoa"
   },
   "source": [
    "# **Question 7**"
   ]
  },
  {
   "cell_type": "markdown",
   "metadata": {
    "id": "TcFNCV0uUN8X"
   },
   "source": [
    "Write a NumPy program to create a column vector (10x1 array) of length 10 with values evenly distributed between 5 and 30 in one line of code.\n",
    "\n",
    "Your result should be as shown below.\n",
    "\n",
    "![image.png](data:image/png;base64,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)"
   ]
  },
  {
   "cell_type": "code",
   "execution_count": 337,
   "metadata": {
    "colab": {
     "base_uri": "https://localhost:8080/"
    },
    "id": "RMg5qpUvUoDK",
    "outputId": "d44a723c-48a6-4e74-d7d4-458b6486a11f"
   },
   "outputs": [
    {
     "data": {
      "text/plain": [
       "array([[ 5.        ],\n",
       "       [ 7.77777778],\n",
       "       [10.55555556],\n",
       "       [13.33333333],\n",
       "       [16.11111111],\n",
       "       [18.88888889],\n",
       "       [21.66666667],\n",
       "       [24.44444444],\n",
       "       [27.22222222],\n",
       "       [30.        ]])"
      ]
     },
     "execution_count": 337,
     "metadata": {},
     "output_type": "execute_result"
    }
   ],
   "source": [
    "# Replace None with your code below\n",
    "a = np.linspace(5,30,10)               \n",
    "a = np.reshape(a,(-1,1))\n",
    "a\n"
   ]
  },
  {
   "cell_type": "markdown",
   "metadata": {
    "id": "w-53QeIS--pg"
   },
   "source": [
    "*Test your code by running the following cell.*"
   ]
  },
  {
   "cell_type": "code",
   "execution_count": 230,
   "metadata": {
    "cellView": "form",
    "colab": {
     "base_uri": "https://localhost:8080/"
    },
    "id": "ePN07-Fn-_9j",
    "outputId": "dbe9b86f-6357-4d45-dd96-b1a69ca33c7e"
   },
   "outputs": [
    {
     "name": "stdout",
     "output_type": "stream",
     "text": [
      "Cool!\n"
     ]
    }
   ],
   "source": [
    "#@title\n",
    "expected = np.array([[ 5.        ],\n",
    "       [ 7.77777778],\n",
    "       [10.55555556],\n",
    "       [13.33333333],\n",
    "       [16.11111111],\n",
    "       [18.88888889],\n",
    "       [21.66666667],\n",
    "       [24.44444444],\n",
    "       [27.22222222],\n",
    "       [30.        ]])\n",
    "try:\n",
    "  assert np.allclose(a, expected)\n",
    "  print(\"Cool!\")\n",
    "except:\n",
    "  print(\"Error: Please try again!\")\n"
   ]
  },
  {
   "cell_type": "code",
   "execution_count": 25,
   "metadata": {
    "id": "4BFxq-WKAOef"
   },
   "outputs": [],
   "source": [
    "# Explain your code below as comments\n"
   ]
  },
  {
   "cell_type": "markdown",
   "metadata": {
    "id": "mHkaZ8kHVm_K"
   },
   "source": [
    "# **Question 8**"
   ]
  },
  {
   "cell_type": "markdown",
   "metadata": {
    "id": "glwLImh5VqtG"
   },
   "source": [
    "Write a NumPy program to create a multiplication table from 3 to 8 using the `outer()` function.\n",
    "\n",
    "Your result should look like the following:\n",
    "\n",
    "![image.png](data:image/png;base64,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)"
   ]
  },
  {
   "cell_type": "code",
   "execution_count": 217,
   "metadata": {
    "colab": {
     "base_uri": "https://localhost:8080/"
    },
    "id": "Gg7jN6L5V97Q",
    "outputId": "df02bd90-5148-400c-e3c3-4d3b9eac0e6d"
   },
   "outputs": [
    {
     "name": "stdout",
     "output_type": "stream",
     "text": [
      "[[ 9 12 15 18 21 24]\n",
      " [12 16 20 24 28 32]\n",
      " [15 20 25 30 35 40]\n",
      " [18 24 30 36 42 48]\n",
      " [21 28 35 42 49 56]\n",
      " [24 32 40 48 56 64]]\n"
     ]
    }
   ],
   "source": [
    "# Replace None with your code here\n",
    "x= np.arange(3,9)\n",
    "a = np.outer(x,x)\n",
    "print(a)"
   ]
  },
  {
   "cell_type": "markdown",
   "metadata": {
    "id": "8DIn3hqSAJbW"
   },
   "source": [
    "*Test your code by running the following cell.*"
   ]
  },
  {
   "cell_type": "code",
   "execution_count": 218,
   "metadata": {
    "cellView": "form",
    "colab": {
     "base_uri": "https://localhost:8080/"
    },
    "id": "_72ABVxP_w_L",
    "outputId": "32b820f3-1f5c-4ab5-a01f-14117b763926"
   },
   "outputs": [
    {
     "name": "stdout",
     "output_type": "stream",
     "text": [
      "Great job! Keep it up!\n"
     ]
    }
   ],
   "source": [
    "#@title\n",
    "expected = np.array([[ 9, 12, 15, 18, 21, 24],\n",
    "       [12, 16, 20, 24, 28, 32],\n",
    "       [15, 20, 25, 30, 35, 40],\n",
    "       [18, 24, 30, 36, 42, 48],\n",
    "       [21, 28, 35, 42, 49, 56],\n",
    "       [24, 32, 40, 48, 56, 64]])\n",
    "try:\n",
    "  assert np.allclose(a, expected)\n",
    "  print(\"Great job! Keep it up!\")\n",
    "except:\n",
    "  print(\"Error: Please try again!\")\n"
   ]
  },
  {
   "cell_type": "code",
   "execution_count": 28,
   "metadata": {
    "id": "5pSSb53zATsn"
   },
   "outputs": [],
   "source": [
    "# Explain your code below as comments\n"
   ]
  },
  {
   "cell_type": "markdown",
   "metadata": {
    "id": "Y_TOlgC0ZEkj"
   },
   "source": [
    "# **Question 9**"
   ]
  },
  {
   "cell_type": "markdown",
   "metadata": {
    "id": "gpd030hvZMUo"
   },
   "source": [
    "Given the following array, standardize each column.\n",
    "\n",
    "To standardize a random variable 𝑋, subtract its mean and divide by its standard deviation. \n",
    "\n",
    "X_std = (𝑋−𝜇)/𝜎 \n",
    "\n",
    "X_std will have mean 0 and standard deviation 1.\n",
    "\n",
    "X = Column of data<br>\n",
    "𝜇 = Mean<br>\n",
    "𝜎 = Standard Deviation"
   ]
  },
  {
   "cell_type": "markdown",
   "metadata": {
    "id": "ek15gFJt938q"
   },
   "source": [
    "Run the cell below."
   ]
  },
  {
   "cell_type": "code",
   "execution_count": 205,
   "metadata": {
    "cellView": "form",
    "colab": {
     "base_uri": "https://localhost:8080/"
    },
    "id": "XJ1fC62Fazul",
    "outputId": "8bd85293-3aaa-4b12-d175-15b91ce3c2a1"
   },
   "outputs": [
    {
     "name": "stdout",
     "output_type": "stream",
     "text": [
      "x =\n",
      " [[0.5488135  0.71518937 0.60276338]\n",
      " [0.54488318 0.4236548  0.64589411]\n",
      " [0.43758721 0.891773   0.96366276]\n",
      " [0.38344152 0.79172504 0.52889492]\n",
      " [0.56804456 0.92559664 0.07103606]\n",
      " [0.0871293  0.0202184  0.83261985]\n",
      " [0.77815675 0.87001215 0.97861834]\n",
      " [0.79915856 0.46147936 0.78052918]\n",
      " [0.11827443 0.63992102 0.14335329]\n",
      " [0.94466892 0.52184832 0.41466194]]\n"
     ]
    }
   ],
   "source": [
    "#@title\n",
    "import numpy as np\n",
    "# standardize each column of this array\n",
    "np.random.seed(0)\n",
    "x = np.random.random((10, 3))\n",
    "print('x =\\n', x)"
   ]
  },
  {
   "cell_type": "code",
   "execution_count": 206,
   "metadata": {
    "id": "6fx4HyEibDQ8"
   },
   "outputs": [
    {
     "data": {
      "text/plain": [
       "array([0.52101579, 0.62614181, 0.59620338])"
      ]
     },
     "execution_count": 206,
     "metadata": {},
     "output_type": "execute_result"
    }
   ],
   "source": [
    "# Replace None with your code below to find the mean of each column as an array. \n",
    "# Result should be: [0.52101579 0.62614181 0.59620338]\n",
    "cols_mean = np.mean(x,axis=0)\n",
    "cols_mean"
   ]
  },
  {
   "cell_type": "markdown",
   "metadata": {
    "id": "8VyS-sa-B_4H"
   },
   "source": [
    "*Test your code by running the following cell.*"
   ]
  },
  {
   "cell_type": "code",
   "execution_count": 207,
   "metadata": {
    "cellView": "form",
    "colab": {
     "base_uri": "https://localhost:8080/"
    },
    "id": "oUa1u10qBFHW",
    "outputId": "d3d55fdc-2816-485b-f54b-e469f5aaf52c"
   },
   "outputs": [
    {
     "name": "stdout",
     "output_type": "stream",
     "text": [
      "All good!\n"
     ]
    }
   ],
   "source": [
    "#@title\n",
    "expected = [0.52101579, 0.62614181, 0.59620338]\n",
    "try:\n",
    "  assert np.allclose(cols_mean, expected)\n",
    "  print('All good!')\n",
    "except:\n",
    "  print(\"Error: Please try again! You can do it!\")"
   ]
  },
  {
   "cell_type": "code",
   "execution_count": 32,
   "metadata": {
    "id": "G-P0Op8mC22H"
   },
   "outputs": [],
   "source": [
    "# Explain your code below as comments\n"
   ]
  },
  {
   "cell_type": "code",
   "execution_count": 208,
   "metadata": {
    "id": "3ZCBoX3dbgH_"
   },
   "outputs": [
    {
     "data": {
      "text/plain": [
       "array([0.2651162 , 0.26483543, 0.2986654 ])"
      ]
     },
     "execution_count": 208,
     "metadata": {},
     "output_type": "execute_result"
    }
   ],
   "source": [
    "# Write your code below to find the standard deviation of each column of x as an array. \n",
    "# Result should be: [0.2651162  0.26483543 0.2986654 ]\n",
    "cols_std = np.std(x, axis=0)\n",
    "cols_std"
   ]
  },
  {
   "cell_type": "markdown",
   "metadata": {
    "id": "wj-7tT77DLiL"
   },
   "source": [
    "*Test your code by running the following cell.*"
   ]
  },
  {
   "cell_type": "code",
   "execution_count": 209,
   "metadata": {
    "cellView": "form",
    "colab": {
     "base_uri": "https://localhost:8080/"
    },
    "id": "FK1lxgngC9xW",
    "outputId": "c96cd2f0-3ec0-4185-ef36-721c6c81943d"
   },
   "outputs": [
    {
     "name": "stdout",
     "output_type": "stream",
     "text": [
      "Very good!\n"
     ]
    }
   ],
   "source": [
    "#@title\n",
    "expected = [0.2651162, 0.26483543, 0.2986654 ]\n",
    "try:\n",
    "  assert np.allclose(cols_std, expected)\n",
    "  print('Very good!')\n",
    "except:\n",
    "  print(\"Error: Please try again! You can do it!\")"
   ]
  },
  {
   "cell_type": "code",
   "execution_count": 35,
   "metadata": {
    "id": "mj1y19waC5hO"
   },
   "outputs": [],
   "source": [
    "# Explain your code below as comments\n"
   ]
  },
  {
   "cell_type": "code",
   "execution_count": 210,
   "metadata": {
    "id": "nqWQzh03bwu0"
   },
   "outputs": [
    {
     "data": {
      "text/plain": [
       "array([[ 0.10485104,  0.33623733,  0.02196436],\n",
       "       [ 0.09002614, -0.76457675,  0.16637592],\n",
       "       [-0.31468685,  1.00300475,  1.23033797],\n",
       "       [-0.51892066,  0.62523066, -0.22536411],\n",
       "       [ 0.17738926,  1.13072044, -1.75838021],\n",
       "       [-1.63658987, -2.28792432,  0.79157635],\n",
       "       [ 0.96991792,  0.9208373 ,  1.28041268],\n",
       "       [ 1.04913531, -0.62175385,  0.61716488],\n",
       "       [-1.5191126 ,  0.05202934, -1.5162456 ],\n",
       "       [ 1.5979903 , -0.3938049 , -0.60784223]])"
      ]
     },
     "execution_count": 210,
     "metadata": {},
     "output_type": "execute_result"
    }
   ],
   "source": [
    "# Replace None with your code below for standardization.\n",
    "X_standardized = (x-cols_mean)/cols_std\n",
    "X_standardized"
   ]
  },
  {
   "cell_type": "markdown",
   "metadata": {
    "id": "LzkAankjGvrd"
   },
   "source": [
    "*Test your code by running the following cell.*"
   ]
  },
  {
   "cell_type": "code",
   "execution_count": 211,
   "metadata": {
    "cellView": "form",
    "colab": {
     "base_uri": "https://localhost:8080/"
    },
    "id": "cLi2f2_gDmgV",
    "outputId": "e5dd06ab-fc85-46b7-98ea-98533a550ab4"
   },
   "outputs": [
    {
     "name": "stdout",
     "output_type": "stream",
     "text": [
      "You are good!\n"
     ]
    }
   ],
   "source": [
    "#@title\n",
    "expected = np.array([[ 0.10485104,  0.33623733,  0.02196436],\n",
    "       [ 0.09002614, -0.76457675,  0.16637592],\n",
    "       [-0.31468685,  1.00300475,  1.23033797],\n",
    "       [-0.51892066,  0.62523066, -0.22536411],\n",
    "       [ 0.17738926,  1.13072044, -1.75838021],\n",
    "       [-1.63658987, -2.28792432,  0.79157635],\n",
    "       [ 0.96991792,  0.9208373 ,  1.28041268],\n",
    "       [ 1.04913531, -0.62175385,  0.61716488],\n",
    "       [-1.5191126 ,  0.05202934, -1.5162456 ],\n",
    "       [ 1.5979903 , -0.3938049 , -0.60784223]])\n",
    "try:\n",
    "  assert np.allclose(X_standardized, expected)\n",
    "  print(\"You are good!\")\n",
    "except:\n",
    "  print(\"Error: Please try again!\")"
   ]
  },
  {
   "cell_type": "code",
   "execution_count": 38,
   "metadata": {
    "id": "ha2A7LoJC7ZV"
   },
   "outputs": [],
   "source": [
    "# Explain your code below as comments\n"
   ]
  },
  {
   "cell_type": "code",
   "execution_count": 212,
   "metadata": {
    "id": "Mar2n59_b-aU"
   },
   "outputs": [],
   "source": [
    "# Write your code below to find the column mean of X_standardize. \n",
    "# Result should be: array([2.22044605e-17, 4.38538095e-16, 1.11022302e-16])\n",
    "col_mean = np.mean(X_standardized, axis=0)"
   ]
  },
  {
   "cell_type": "markdown",
   "metadata": {
    "id": "XI-A47xqHSRF"
   },
   "source": [
    "*Test your code by running the following cell.*"
   ]
  },
  {
   "cell_type": "code",
   "execution_count": 213,
   "metadata": {
    "cellView": "form",
    "colab": {
     "base_uri": "https://localhost:8080/"
    },
    "id": "ODao2w53HRB2",
    "outputId": "b2a59169-cde9-4cfd-dd79-714a31d0a8b6"
   },
   "outputs": [
    {
     "name": "stdout",
     "output_type": "stream",
     "text": [
      "You are good!\n"
     ]
    }
   ],
   "source": [
    "#@title\n",
    "expected = np.array([2.22044605e-17, 4.38538095e-16, 1.11022302e-16])\n",
    "try:\n",
    "  assert np.allclose(col_mean, expected)\n",
    "  print(\"You are good!\")\n",
    "except:\n",
    "  print(\"Error: Please try again!\")"
   ]
  },
  {
   "cell_type": "code",
   "execution_count": 41,
   "metadata": {
    "id": "KAGynE7ZC-Me"
   },
   "outputs": [],
   "source": [
    "# Explain your code below as comments\n"
   ]
  },
  {
   "cell_type": "code",
   "execution_count": 214,
   "metadata": {
    "id": "xhx2M-sJcH_0"
   },
   "outputs": [
    {
     "data": {
      "text/plain": [
       "array([1., 1., 1.])"
      ]
     },
     "execution_count": 214,
     "metadata": {},
     "output_type": "execute_result"
    }
   ],
   "source": [
    "# Write your code below to find the column standard deviation of X_standardize. Result should be: array([1., 1., 1.])\n",
    "col_std_dev = np.std(X_standardized,axis=0)\n",
    "col_std_dev"
   ]
  },
  {
   "cell_type": "markdown",
   "metadata": {
    "id": "pJ2UZzTRIG7J"
   },
   "source": [
    "*Test your code by running the following cell.*"
   ]
  },
  {
   "cell_type": "code",
   "execution_count": 215,
   "metadata": {
    "cellView": "form",
    "colab": {
     "base_uri": "https://localhost:8080/"
    },
    "id": "JYRlVTCVINDJ",
    "outputId": "02c58c92-2813-44cd-d659-0d4b40ed10c6"
   },
   "outputs": [
    {
     "name": "stdout",
     "output_type": "stream",
     "text": [
      "You are good!\n"
     ]
    }
   ],
   "source": [
    "#@title\n",
    "expected = np.array([1., 1., 1.])\n",
    "try:\n",
    "  assert np.allclose(col_std_dev, expected)\n",
    "  print(\"You are good!\")\n",
    "except:\n",
    "  print(\"Error: Please try again!\")"
   ]
  },
  {
   "cell_type": "code",
   "execution_count": 44,
   "metadata": {
    "id": "TZjVTGm0C_61"
   },
   "outputs": [],
   "source": [
    "# Explain your code below as comments\n"
   ]
  },
  {
   "cell_type": "markdown",
   "metadata": {
    "id": "jCBftnnoccWv"
   },
   "source": [
    "# **Question 10**\n"
   ]
  },
  {
   "cell_type": "markdown",
   "metadata": {
    "id": "pQXtYZVYvi1E"
   },
   "source": [
    "Run the following cell."
   ]
  },
  {
   "cell_type": "code",
   "execution_count": 199,
   "metadata": {
    "cellView": "form",
    "colab": {
     "base_uri": "https://localhost:8080/"
    },
    "id": "c5n35nEwdHkG",
    "outputId": "a6abc67e-7c7d-46b4-cdf0-efbe031a48a7"
   },
   "outputs": [
    {
     "name": "stdout",
     "output_type": "stream",
     "text": [
      "x1 = [1 2 3]\n",
      "----------\n",
      "x2 =\n",
      " [[0 1 2]\n",
      " [3 4 5]\n",
      " [6 7 8]]\n"
     ]
    }
   ],
   "source": [
    "#@title\n",
    "# DO NOT CHANGE the following code\n",
    "x1 = np.array([1, 2, 3])\n",
    "\n",
    "x2 = np.arange(9).reshape((3,3))\n",
    "\n",
    "print('x1 =', x1); print('-'*10); print('x2 =\\n', x2)\n"
   ]
  },
  {
   "cell_type": "markdown",
   "metadata": {
    "id": "T2NPZnNic_nO"
   },
   "source": [
    "Add array `x1` to each column of array `x2` and print the resulting array.\n",
    "\n",
    "Your result should look like as follows.\n",
    "\n",
    "![image.png](data:image/png;base64,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)"
   ]
  },
  {
   "cell_type": "code",
   "execution_count": 203,
   "metadata": {
    "id": "QyHOQuBwimGR"
   },
   "outputs": [
    {
     "data": {
      "text/plain": [
       "array([[ 1,  2,  3],\n",
       "       [ 5,  6,  7],\n",
       "       [ 9, 10, 11]])"
      ]
     },
     "execution_count": 203,
     "metadata": {},
     "output_type": "execute_result"
    }
   ],
   "source": [
    "# Replace None with your code below\n",
    "a = np.reshape(x1,(3,1)) + x2\n",
    "a"
   ]
  },
  {
   "cell_type": "markdown",
   "metadata": {
    "id": "NrF6fTzhvCaQ"
   },
   "source": [
    "*Test your code by running the following cell.*"
   ]
  },
  {
   "cell_type": "code",
   "execution_count": 204,
   "metadata": {
    "cellView": "form",
    "colab": {
     "base_uri": "https://localhost:8080/"
    },
    "id": "SVbAe6dWvBRr",
    "outputId": "ec979dbe-831a-4b83-a7bd-be24a348a341"
   },
   "outputs": [
    {
     "name": "stdout",
     "output_type": "stream",
     "text": [
      "You are on a roll!\n"
     ]
    }
   ],
   "source": [
    "#@title\n",
    "expected = np.array([[ 1,  2,  3],\n",
    "       [ 5,  6,  7],\n",
    "       [ 9, 10, 11]])\n",
    "try:\n",
    "  assert np.allclose(a, expected)\n",
    "  print(\"You are on a roll!\")\n",
    "except:\n",
    "  print(\"Error: Please try again!\")"
   ]
  },
  {
   "cell_type": "code",
   "execution_count": 48,
   "metadata": {
    "id": "nIUz8N11DPWH"
   },
   "outputs": [],
   "source": [
    "# Explain your code below as comments\n"
   ]
  },
  {
   "cell_type": "markdown",
   "metadata": {
    "id": "nNJTr1kKkL8Q"
   },
   "source": [
    "# **Question 11**"
   ]
  },
  {
   "cell_type": "markdown",
   "metadata": {
    "id": "VPrx6lOnkQys"
   },
   "source": [
    "Write a NumPy array to extract numbers between 3 and 7 (3 and 7 inclusive) from the following array."
   ]
  },
  {
   "cell_type": "code",
   "execution_count": 152,
   "metadata": {
    "cellView": "form",
    "colab": {
     "base_uri": "https://localhost:8080/"
    },
    "id": "30dtlAeSksrg",
    "outputId": "f0dbd6e9-599a-435a-b4fc-d9f9108783d7"
   },
   "outputs": [
    {
     "name": "stdout",
     "output_type": "stream",
     "text": [
      "x = \n",
      " [[5 0 3]\n",
      " [3 7 9]\n",
      " [3 5 2]]\n"
     ]
    }
   ],
   "source": [
    "#@title\n",
    "# DO NOT CHANGE the following code\n",
    "np.random.seed(0)\n",
    "x = np.random.randint(0, 10, 9).reshape((3,3))\n",
    "print('x = \\n',x)"
   ]
  },
  {
   "cell_type": "code",
   "execution_count": 171,
   "metadata": {
    "id": "6WnSJoesk5br"
   },
   "outputs": [
    {
     "data": {
      "text/plain": [
       "array([5, 3, 3, 7, 3, 5])"
      ]
     },
     "execution_count": 171,
     "metadata": {},
     "output_type": "execute_result"
    }
   ],
   "source": [
    "# Replace None with your code below; Result should be: array([5, 3, 3, 7, 3, 5])\n",
    "a = x[(x>=3) & (x<=7)]\n",
    "a"
   ]
  },
  {
   "cell_type": "markdown",
   "metadata": {
    "id": "DN20JobPvrRc"
   },
   "source": [
    "*Test your code by running the following cell.*"
   ]
  },
  {
   "cell_type": "code",
   "execution_count": 172,
   "metadata": {
    "cellView": "form",
    "colab": {
     "base_uri": "https://localhost:8080/"
    },
    "id": "F6FmIJlYvqtW",
    "outputId": "24a83edc-d610-4125-84bf-01642b766ee4"
   },
   "outputs": [
    {
     "name": "stdout",
     "output_type": "stream",
     "text": [
      "You are doing great!\n"
     ]
    }
   ],
   "source": [
    "#@title\n",
    "expected = np.array([5, 3, 3, 7, 3, 5])\n",
    "try:\n",
    "  assert np.allclose(a, expected)\n",
    "  print(\"You are doing great!\")\n",
    "except:\n",
    "  print(\"Error: Please try again!\")"
   ]
  },
  {
   "cell_type": "code",
   "execution_count": 52,
   "metadata": {
    "id": "lBYE4GuCD9TS"
   },
   "outputs": [],
   "source": [
    "# Explain your code below as comments\n"
   ]
  },
  {
   "cell_type": "markdown",
   "metadata": {
    "id": "_sLTylnTlnKP"
   },
   "source": [
    "Replace each of those numbers with 99 in the original array and print the array. \n",
    "\n",
    "The result should be:\n",
    "\n",
    "![image.png](data:image/png;base64,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)"
   ]
  },
  {
   "cell_type": "code",
   "execution_count": 173,
   "metadata": {
    "colab": {
     "base_uri": "https://localhost:8080/"
    },
    "id": "yd_pPErxl-Bz",
    "outputId": "53bdad0b-fba6-4cdc-c51d-c065ab08ef34"
   },
   "outputs": [
    {
     "data": {
      "text/plain": [
       "array([[99,  0, 99],\n",
       "       [99, 99,  9],\n",
       "       [99, 99,  2]])"
      ]
     },
     "execution_count": 173,
     "metadata": {},
     "output_type": "execute_result"
    }
   ],
   "source": [
    "# Replace None with your code below\n",
    "x[(x>=3) & (x<=7)] = 99\n",
    "x"
   ]
  },
  {
   "cell_type": "markdown",
   "metadata": {
    "id": "rfknipSIw1A6"
   },
   "source": [
    "*Test your code by running the following cell.*"
   ]
  },
  {
   "cell_type": "code",
   "execution_count": 174,
   "metadata": {
    "cellView": "form",
    "colab": {
     "base_uri": "https://localhost:8080/"
    },
    "id": "0PyxEgucwzZK",
    "outputId": "99a727ed-8399-4b45-c40b-eb563c411b40"
   },
   "outputs": [
    {
     "name": "stdout",
     "output_type": "stream",
     "text": [
      "Beautiful!\n"
     ]
    }
   ],
   "source": [
    "#@title\n",
    "expected = np.array([[99,  0, 99],\n",
    "       [99, 99,  9],  \n",
    "       [99, 99,  2]])\n",
    "try:\n",
    "  assert np.allclose(x, expected)\n",
    "  print(\"Beautiful!\")\n",
    "except:\n",
    "  print(\"Error: Please try again!\")"
   ]
  },
  {
   "cell_type": "code",
   "execution_count": 55,
   "metadata": {
    "id": "Q73ZuN7sD_N8"
   },
   "outputs": [],
   "source": [
    "# Explain your code below as comments\n"
   ]
  },
  {
   "cell_type": "markdown",
   "metadata": {
    "id": "YC604HNnmq74"
   },
   "source": [
    "# **Question 12**"
   ]
  },
  {
   "cell_type": "markdown",
   "metadata": {
    "id": "WcGi9nmGn8be"
   },
   "source": [
    "Write a NumPy code to find the intersection (common elements) between the following arrays (x and y)."
   ]
  },
  {
   "cell_type": "markdown",
   "metadata": {
    "id": "p2dige6d-K6U"
   },
   "source": [
    "Run the following cell."
   ]
  },
  {
   "cell_type": "code",
   "execution_count": 147,
   "metadata": {
    "cellView": "form",
    "colab": {
     "base_uri": "https://localhost:8080/"
    },
    "id": "Ju5H5W21m_vo",
    "outputId": "dea8213f-a1fe-4897-8e8c-2815c85006d0"
   },
   "outputs": [
    {
     "name": "stdout",
     "output_type": "stream",
     "text": [
      "x =\n",
      " [[5 8 9]\n",
      " [5 0 0]\n",
      " [1 7 6]]\n",
      "----------\n",
      "y =\n",
      " [[9 2 4]\n",
      " [5 2 4]\n",
      " [2 4 7]]\n"
     ]
    }
   ],
   "source": [
    "#@title\n",
    "# DO NOT CHANGE the following code\n",
    "np.random.seed(1)\n",
    "x = np.random.randint(0, 10, 9).reshape((3,3))\n",
    "y = np.random.randint(0, 10, 9).reshape((3,3))\n",
    "print('x =\\n',x); print('-'*10 ); print('y =\\n',y)"
   ]
  },
  {
   "cell_type": "code",
   "execution_count": 148,
   "metadata": {
    "id": "UVTpxx5SnRKb"
   },
   "outputs": [
    {
     "data": {
      "text/plain": [
       "array([5, 7, 9])"
      ]
     },
     "execution_count": 148,
     "metadata": {},
     "output_type": "execute_result"
    }
   ],
   "source": [
    "# Replace None with your code below; Result should be: array([5, 7, 9])\n",
    "a = np.intersect1d(x,y)\n",
    "a"
   ]
  },
  {
   "cell_type": "markdown",
   "metadata": {
    "id": "84lW_KwfyAo6"
   },
   "source": [
    "*Test your code by running the following cell.*"
   ]
  },
  {
   "cell_type": "code",
   "execution_count": 149,
   "metadata": {
    "cellView": "form",
    "colab": {
     "base_uri": "https://localhost:8080/"
    },
    "id": "BrGLT7IRyATB",
    "outputId": "9778e71f-6025-4da8-ec6d-d6b7f3e4e623"
   },
   "outputs": [
    {
     "name": "stdout",
     "output_type": "stream",
     "text": [
      "Keep it up!\n"
     ]
    }
   ],
   "source": [
    "#@title\n",
    "expected = np.array([5, 7, 9])\n",
    "try:\n",
    "  assert np.allclose(a, expected)\n",
    "  print(\"Keep it up!\")\n",
    "except:\n",
    "  print(\"Error: Please try again!\")"
   ]
  },
  {
   "cell_type": "code",
   "execution_count": 59,
   "metadata": {
    "id": "-r6sk1CPEL7y"
   },
   "outputs": [],
   "source": [
    "# Explain your code below as comments\n"
   ]
  },
  {
   "cell_type": "markdown",
   "metadata": {
    "id": "8NPxlkMaocKW"
   },
   "source": [
    "Write a NumPy code to print the unique elements of array x"
   ]
  },
  {
   "cell_type": "code",
   "execution_count": 150,
   "metadata": {
    "id": "gWbCQ96soQrs"
   },
   "outputs": [
    {
     "data": {
      "text/plain": [
       "array([0, 1, 5, 6, 7, 8, 9])"
      ]
     },
     "execution_count": 150,
     "metadata": {},
     "output_type": "execute_result"
    }
   ],
   "source": [
    "# Replace None with your code below. Result should be: array([0, 1, 5, 6, 7, 8, 9])\n",
    "a = np.unique(x)\n",
    "a"
   ]
  },
  {
   "cell_type": "markdown",
   "metadata": {
    "id": "s1mWTgA7yd9F"
   },
   "source": [
    "*Test your code by running the following cell.*"
   ]
  },
  {
   "cell_type": "code",
   "execution_count": 151,
   "metadata": {
    "cellView": "form",
    "colab": {
     "base_uri": "https://localhost:8080/"
    },
    "id": "VovLtj3iydos",
    "outputId": "04a06544-1255-4364-86f0-fb9fe9399495"
   },
   "outputs": [
    {
     "name": "stdout",
     "output_type": "stream",
     "text": [
      "You are doing great!\n"
     ]
    }
   ],
   "source": [
    "#@title\n",
    "expected = np.array([0, 1, 5, 6, 7, 8, 9])\n",
    "try:\n",
    "  assert np.allclose(a, expected)\n",
    "  print(\"You are doing great!\")\n",
    "except:\n",
    "  print(\"Error: Please try again!\")"
   ]
  },
  {
   "cell_type": "code",
   "execution_count": 62,
   "metadata": {
    "id": "qDvRfnMWENn6"
   },
   "outputs": [],
   "source": [
    "# Explain your code below as comments\n"
   ]
  },
  {
   "cell_type": "markdown",
   "metadata": {
    "id": "TwmFnZDFpR0R"
   },
   "source": [
    "# **Question 13**"
   ]
  },
  {
   "cell_type": "markdown",
   "metadata": {
    "id": "QUszPTFn_0Al"
   },
   "source": [
    "Run the cell below."
   ]
  },
  {
   "cell_type": "code",
   "execution_count": 134,
   "metadata": {
    "cellView": "form",
    "colab": {
     "base_uri": "https://localhost:8080/"
    },
    "id": "W1YR9zLypkXm",
    "outputId": "6cdcbc5a-d87d-439b-f0d3-339cb46f0f79"
   },
   "outputs": [
    {
     "data": {
      "text/plain": [
       "array([[8, 8, 6],\n",
       "       [2, 8, 7],\n",
       "       [2, 1, 5]])"
      ]
     },
     "execution_count": 134,
     "metadata": {},
     "output_type": "execute_result"
    }
   ],
   "source": [
    "#@title\n",
    "# DO NOT CHANGE the following code\n",
    "np.random.seed(2)\n",
    "x = np.random.randint(0, 10, 9).reshape((3,3))\n",
    "x"
   ]
  },
  {
   "cell_type": "markdown",
   "metadata": {
    "id": "Slw-ZG9_pX13"
   },
   "source": [
    "Find the *indices* of **max** and **min** of the above array `x` along the **rows**."
   ]
  },
  {
   "cell_type": "code",
   "execution_count": 137,
   "metadata": {
    "id": "e-H_JA_5pwkP"
   },
   "outputs": [
    {
     "data": {
      "text/plain": [
       "array([0, 1, 2], dtype=int64)"
      ]
     },
     "execution_count": 137,
     "metadata": {},
     "output_type": "execute_result"
    }
   ],
   "source": [
    "# Replace None with your code for 'indices of max along the rows' below; Result should be: array([0, 1, 2])\n",
    "# a = None\n",
    "a =np.argmax(x,axis = 1)\n",
    "a"
   ]
  },
  {
   "cell_type": "markdown",
   "metadata": {
    "id": "d78OW1REy39k"
   },
   "source": [
    "*Test your code by running the following cell.*"
   ]
  },
  {
   "cell_type": "code",
   "execution_count": 138,
   "metadata": {
    "cellView": "form",
    "colab": {
     "base_uri": "https://localhost:8080/"
    },
    "id": "iY2NL5buy3rF",
    "outputId": "3044f2fa-3067-49d8-d357-5c7b4128c26c"
   },
   "outputs": [
    {
     "name": "stdout",
     "output_type": "stream",
     "text": [
      "You are doing great!\n"
     ]
    }
   ],
   "source": [
    "#@title\n",
    "expected = np.array([0, 1, 2])\n",
    "try:\n",
    "  assert np.allclose(a, expected)\n",
    "  print(\"You are doing great!\")\n",
    "except:\n",
    "  print(\"Error: Please try again!\")"
   ]
  },
  {
   "cell_type": "code",
   "execution_count": 66,
   "metadata": {
    "id": "f3Z5tVSfEQWD"
   },
   "outputs": [],
   "source": [
    "# Explain your code below as comments\n"
   ]
  },
  {
   "cell_type": "code",
   "execution_count": 139,
   "metadata": {
    "id": "-CXCp0heqit7"
   },
   "outputs": [
    {
     "data": {
      "text/plain": [
       "array([2, 0, 1], dtype=int64)"
      ]
     },
     "execution_count": 139,
     "metadata": {},
     "output_type": "execute_result"
    }
   ],
   "source": [
    "# Replace None with your code for 'indices of min along the rows' below; \n",
    "# Result should be: array([2, 0, 1])\n",
    "a = np.argmin(x,axis=1)\n",
    "a"
   ]
  },
  {
   "cell_type": "markdown",
   "metadata": {
    "id": "P2M0S2vDzJ86"
   },
   "source": [
    "*Test your code by running the following cell.*"
   ]
  },
  {
   "cell_type": "code",
   "execution_count": 140,
   "metadata": {
    "cellView": "form",
    "colab": {
     "base_uri": "https://localhost:8080/"
    },
    "id": "9Q7CseyozJg6",
    "outputId": "675e9b3e-8861-44b3-f358-f884f9a2b823"
   },
   "outputs": [
    {
     "name": "stdout",
     "output_type": "stream",
     "text": [
      "You are doing great!\n"
     ]
    }
   ],
   "source": [
    "#@title\n",
    "expected = np.array([2, 0, 1])\n",
    "try:\n",
    "  assert np.allclose(a, expected)\n",
    "  print(\"You are doing great!\")\n",
    "except:\n",
    "  print(\"Error: Please try again!\")"
   ]
  },
  {
   "cell_type": "code",
   "execution_count": 69,
   "metadata": {
    "id": "BbD-dMRMERwr"
   },
   "outputs": [],
   "source": [
    "# Explain your code below as comments\n"
   ]
  },
  {
   "cell_type": "markdown",
   "metadata": {
    "id": "Ip0Wj2DJqVkp"
   },
   "source": [
    "Find the indices of **max** and **min** of the above array x along the **columns**."
   ]
  },
  {
   "cell_type": "code",
   "execution_count": 141,
   "metadata": {
    "id": "GLRLat84udKL"
   },
   "outputs": [
    {
     "data": {
      "text/plain": [
       "array([0, 0, 1], dtype=int64)"
      ]
     },
     "execution_count": 141,
     "metadata": {},
     "output_type": "execute_result"
    }
   ],
   "source": [
    "# Replace None with your code for 'indices of max along the columns' below; \n",
    "# Result should be: array([0, 0, 1])\n",
    "a = np.argmax(x, axis=0)\n",
    "a"
   ]
  },
  {
   "cell_type": "markdown",
   "metadata": {
    "id": "hulE3GgI0C_v"
   },
   "source": [
    "*Test your code by running the following cell.*"
   ]
  },
  {
   "cell_type": "code",
   "execution_count": 142,
   "metadata": {
    "cellView": "form",
    "colab": {
     "base_uri": "https://localhost:8080/"
    },
    "id": "s7luAJQu0CtY",
    "outputId": "ebdf0c73-e1a9-4425-a985-536ae9f50f98"
   },
   "outputs": [
    {
     "name": "stdout",
     "output_type": "stream",
     "text": [
      "You are doing great!\n"
     ]
    }
   ],
   "source": [
    "#@title\n",
    "expected = np.array([0, 0, 1])\n",
    "try:\n",
    "  assert np.allclose(a, expected)\n",
    "  print(\"You are doing great!\")\n",
    "except:\n",
    "  print(\"Error: Please try again!\")"
   ]
  },
  {
   "cell_type": "code",
   "execution_count": 72,
   "metadata": {
    "id": "mctSkERkETPC"
   },
   "outputs": [],
   "source": [
    "# Explain your code below as comments\n"
   ]
  },
  {
   "cell_type": "code",
   "execution_count": 143,
   "metadata": {
    "id": "NsJ1w_vFuidv"
   },
   "outputs": [
    {
     "data": {
      "text/plain": [
       "array([1, 2, 2], dtype=int64)"
      ]
     },
     "execution_count": 143,
     "metadata": {},
     "output_type": "execute_result"
    }
   ],
   "source": [
    "# Replace None with your code for 'indices of min along the columns' below; \n",
    "# Result should be: array([1, 2, 2])\n",
    "a = np.argmin(x,axis = 0)\n",
    "a"
   ]
  },
  {
   "cell_type": "markdown",
   "metadata": {
    "id": "cYZy0AAx0XYn"
   },
   "source": [
    "*Test your code by running the following cell.*"
   ]
  },
  {
   "cell_type": "code",
   "execution_count": 144,
   "metadata": {
    "cellView": "form",
    "colab": {
     "base_uri": "https://localhost:8080/"
    },
    "id": "R70KXqU-0XIJ",
    "outputId": "db8fd69f-5c0b-4213-fa84-d46bcef78124"
   },
   "outputs": [
    {
     "name": "stdout",
     "output_type": "stream",
     "text": [
      "You are doing great!\n"
     ]
    }
   ],
   "source": [
    "#@title\n",
    "expected = np.array([1, 2, 2])\n",
    "try:\n",
    "  assert np.allclose(a, expected)\n",
    "  print(\"You are doing great!\")\n",
    "except:\n",
    "  print(\"Error: Please try again!\")"
   ]
  },
  {
   "cell_type": "code",
   "execution_count": 75,
   "metadata": {
    "id": "RZ7Ml9cvEU6S"
   },
   "outputs": [],
   "source": [
    "# Explain your code below as comments\n"
   ]
  },
  {
   "cell_type": "markdown",
   "metadata": {
    "id": "RjWDhMQsvk_3"
   },
   "source": [
    "# **Question 14**"
   ]
  },
  {
   "cell_type": "markdown",
   "metadata": {
    "id": "2IE9BfcQv3jm"
   },
   "source": [
    "Write a NumPy program to find the sum of all multiples of 2 **and** 5 between 30 and 100 (both inclusive)."
   ]
  },
  {
   "cell_type": "code",
   "execution_count": 191,
   "metadata": {
    "id": "zbMjn1D6voDT"
   },
   "outputs": [],
   "source": [
    "# # Replace None with your code below (Result should be = 520)\n",
    "# # a = None\n",
    "# import numpy as np\n",
    "# al = np.arange(30,101,2)\n",
    "# bl = np.arange(30,101,5)\n",
    "# al=set(al)\n",
    "# bl=set(bl)\n",
    "# ans = al.intersection(bl)\n",
    "# arr = np.array(list(ans))\n",
    "# a = np.sum(arr)"
   ]
  },
  {
   "cell_type": "code",
   "execution_count": 193,
   "metadata": {},
   "outputs": [],
   "source": [
    "lst = np.arange(30,101)\n",
    "arr = lst[(lst%2==0) & (lst%5==0)]\n",
    "a = np.sum(arr)"
   ]
  },
  {
   "cell_type": "markdown",
   "metadata": {
    "id": "lG1Oa-oQ0iHR"
   },
   "source": [
    "*Test your code by running the following cell.*"
   ]
  },
  {
   "cell_type": "code",
   "execution_count": 194,
   "metadata": {
    "cellView": "form",
    "colab": {
     "base_uri": "https://localhost:8080/"
    },
    "id": "EYcMUgeo0ht2",
    "outputId": "303b2407-55ee-440e-9e14-837019b632e8"
   },
   "outputs": [
    {
     "name": "stdout",
     "output_type": "stream",
     "text": [
      "You are doing great!\n"
     ]
    }
   ],
   "source": [
    "#@title\n",
    "expected = 520\n",
    "try:\n",
    "  assert a == expected\n",
    "  print(\"You are doing great!\")\n",
    "except:\n",
    "  print(\"Error: Please try again!\")"
   ]
  },
  {
   "cell_type": "code",
   "execution_count": 78,
   "metadata": {
    "id": "sqUg39YXEWZC"
   },
   "outputs": [],
   "source": [
    "# Explain your code below as comments\n"
   ]
  },
  {
   "cell_type": "markdown",
   "metadata": {
    "id": "7U9WpuSrz_vC"
   },
   "source": [
    "Write a NumPy program to find the sum of all multiples of 3 **or** 5 between 50 and 100 (both inclusive)."
   ]
  },
  {
   "cell_type": "code",
   "execution_count": 79,
   "metadata": {
    "id": "pERCF8tF0IH6"
   },
   "outputs": [],
   "source": [
    "# Replace None with your code below (Result should be = 1875)\n",
    "a = None\n",
    "a"
   ]
  },
  {
   "cell_type": "markdown",
   "metadata": {
    "id": "irBxtVxm08u3"
   },
   "source": [
    "*Test your code by running the following cell.*"
   ]
  },
  {
   "cell_type": "code",
   "execution_count": 80,
   "metadata": {
    "cellView": "form",
    "colab": {
     "base_uri": "https://localhost:8080/"
    },
    "id": "SYDGI36K08hJ",
    "outputId": "b6c61f0c-e6e3-4311-83b5-df6a8bd7fceb"
   },
   "outputs": [
    {
     "name": "stdout",
     "output_type": "stream",
     "text": [
      "Error: Please try again!\n"
     ]
    }
   ],
   "source": [
    "#@title\n",
    "expected = 1875\n",
    "try:\n",
    "  assert a == expected\n",
    "  print(\"You are doing great!\")\n",
    "except:\n",
    "  print(\"Error: Please try again!\")"
   ]
  },
  {
   "cell_type": "code",
   "execution_count": 81,
   "metadata": {
    "id": "ZnKZTyjtEXlq"
   },
   "outputs": [],
   "source": [
    "# Explain your code below as comments\n"
   ]
  },
  {
   "cell_type": "markdown",
   "metadata": {
    "id": "db3Bs8xC0354"
   },
   "source": [
    "# **Question 15**"
   ]
  },
  {
   "cell_type": "markdown",
   "metadata": {
    "id": "Laj8U3N-1arH"
   },
   "source": [
    "Write a NumPy array to get an array of squares plus 1 of integers from 1 to 49.\n",
    "\n",
    "The result should look like below.\n",
    "\n",
    "![image.png](data:image/png;base64,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)\n"
   ]
  },
  {
   "cell_type": "markdown",
   "metadata": {
    "id": "zV8Kff7M2k3o"
   },
   "source": [
    "As you can see, the first element is (1 squared + 1), the second element is (2 squared + 1), the third element is (3 squared + 1) and so on."
   ]
  },
  {
   "cell_type": "code",
   "execution_count": 61,
   "metadata": {
    "id": "n47LdtCN07as"
   },
   "outputs": [
    {
     "data": {
      "text/plain": [
       "array([   2,    5,   10,   17,   26,   37,   50,   65,   82,  101,  122,\n",
       "        145,  170,  197,  226,  257,  290,  325,  362,  401,  442,  485,\n",
       "        530,  577,  626,  677,  730,  785,  842,  901,  962, 1025, 1090,\n",
       "       1157, 1226, 1297, 1370, 1445, 1522, 1601, 1682, 1765, 1850, 1937,\n",
       "       2026, 2117, 2210, 2305, 2402])"
      ]
     },
     "execution_count": 61,
     "metadata": {},
     "output_type": "execute_result"
    }
   ],
   "source": [
    "# Replace None with your code below\n",
    "# a = None\n",
    "a = np.arange(1,50, 1)\n",
    "a = a*a +1\n",
    "a"
   ]
  },
  {
   "cell_type": "markdown",
   "metadata": {
    "id": "3qkipKtS1Qy0"
   },
   "source": [
    "*Test your code by running the following cell.*"
   ]
  },
  {
   "cell_type": "code",
   "execution_count": 62,
   "metadata": {
    "cellView": "form",
    "colab": {
     "base_uri": "https://localhost:8080/"
    },
    "id": "df9YQSHr1Qkt",
    "outputId": "91c73d83-65bd-4d9b-bfbd-88ed9fe808d1"
   },
   "outputs": [
    {
     "name": "stdout",
     "output_type": "stream",
     "text": [
      "You are doing great!\n"
     ]
    }
   ],
   "source": [
    "#@title\n",
    "expected = np.array([   2,    5,   10,   17,   26,   37,   50,   65,   82,  101,  122,\n",
    "        145,  170,  197,  226,  257,  290,  325,  362,  401,  442,  485,\n",
    "        530,  577,  626,  677,  730,  785,  842,  901,  962, 1025, 1090,\n",
    "       1157, 1226, 1297, 1370, 1445, 1522, 1601, 1682, 1765, 1850, 1937,\n",
    "       2026, 2117, 2210, 2305, 2402])\n",
    "try:\n",
    "  assert np.allclose(a, expected)\n",
    "  print(\"You are doing great!\")\n",
    "except:\n",
    "  print(\"Error: Please try again!\")"
   ]
  },
  {
   "cell_type": "code",
   "execution_count": 84,
   "metadata": {
    "id": "CLMIffRrEZqz"
   },
   "outputs": [],
   "source": [
    "# Explain your code below as comments\n",
    "# a = a*a +1 does the dot product and adds 1 to each product."
   ]
  },
  {
   "cell_type": "markdown",
   "metadata": {
    "id": "DNjbkfjw3S8m"
   },
   "source": [
    "# **Question 16**"
   ]
  },
  {
   "cell_type": "markdown",
   "metadata": {
    "id": "0MHs5sII48v7"
   },
   "source": [
    "Write a NumPy program to add an extra column to a 2 dimensional array."
   ]
  },
  {
   "cell_type": "markdown",
   "metadata": {
    "id": "NmV12MaN-uB8"
   },
   "source": [
    "Run the following cell."
   ]
  },
  {
   "cell_type": "code",
   "execution_count": 27,
   "metadata": {
    "cellView": "form",
    "colab": {
     "base_uri": "https://localhost:8080/"
    },
    "id": "KLMsat8l3h3w",
    "outputId": "2448ba53-0c8d-433b-9533-6558f92ef810"
   },
   "outputs": [
    {
     "name": "stdout",
     "output_type": "stream",
     "text": [
      "x =\n",
      " [[0.5488135  0.71518937]\n",
      " [0.60276338 0.54488318]\n",
      " [0.4236548  0.64589411]\n",
      " [0.43758721 0.891773  ]]\n",
      "--------------------\n",
      "y =\n",
      " [0 1 2 3]\n"
     ]
    }
   ],
   "source": [
    "#@title\n",
    "# DO NOT CHANGE the code below\n",
    "import numpy as np\n",
    "np.random.seed(0)\n",
    "x = np.random.random((4,2))\n",
    "print('x =\\n', x)\n",
    "print('-'*20)\n",
    "y = np.arange(4)\n",
    "print('y =\\n', y)"
   ]
  },
  {
   "cell_type": "code",
   "execution_count": 51,
   "metadata": {},
   "outputs": [],
   "source": [
    "# y = np.array(y)\n",
    "# print(y)\n",
    "y = np.reshape(y,(-1,1))"
   ]
  },
  {
   "cell_type": "markdown",
   "metadata": {
    "id": "xtvrAu3m5wcI"
   },
   "source": [
    "Add the values of array `y` as a column to the array `x`. \n",
    "\n",
    "The result should be like the following.\n",
    "\n",
    "![image.png](data:image/png;base64,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)\n"
   ]
  },
  {
   "cell_type": "code",
   "execution_count": 52,
   "metadata": {
    "id": "N0tkkzUH3xTD"
   },
   "outputs": [
    {
     "data": {
      "text/plain": [
       "array([[0.5488135 , 0.71518937, 0.        ],\n",
       "       [0.60276338, 0.54488318, 1.        ],\n",
       "       [0.4236548 , 0.64589411, 2.        ],\n",
       "       [0.43758721, 0.891773  , 3.        ]])"
      ]
     },
     "execution_count": 52,
     "metadata": {},
     "output_type": "execute_result"
    }
   ],
   "source": [
    "# Replace None with your code below\n",
    "# a = None\n",
    "a = np.hstack((x,y))\n",
    "a"
   ]
  },
  {
   "cell_type": "markdown",
   "metadata": {
    "id": "FeHN4GeF1mHg"
   },
   "source": [
    "*Test your code by running the following cell.*"
   ]
  },
  {
   "cell_type": "code",
   "execution_count": 53,
   "metadata": {
    "cellView": "form",
    "colab": {
     "base_uri": "https://localhost:8080/"
    },
    "id": "vfLPaRT11l6k",
    "outputId": "761adf2a-d09e-4462-c27b-3b114805d7e5"
   },
   "outputs": [
    {
     "name": "stdout",
     "output_type": "stream",
     "text": [
      "You are doing great!\n"
     ]
    }
   ],
   "source": [
    "#@title\n",
    "expected = np.array([[0.5488135 , 0.71518937, 0.        ],\n",
    "       [0.60276338, 0.54488318, 1.        ],\n",
    "       [0.4236548 , 0.64589411, 2.        ],\n",
    "       [0.43758721, 0.891773  , 3.        ]])\n",
    "try:\n",
    "  assert np.allclose(a, expected)\n",
    "  print(\"You are doing great!\")\n",
    "except:\n",
    "  print(\"Error: Please try again!\")"
   ]
  },
  {
   "cell_type": "code",
   "execution_count": 88,
   "metadata": {
    "id": "1fg2KbRUEeJa"
   },
   "outputs": [],
   "source": [
    "# Explain your code below as comments\n",
    "# y = np.reshape(y,(-1,1) converts the original y row vector to column vector and  a = np.hstack((x,y)) command append the y vector \n",
    "# to x vector horizontally"
   ]
  },
  {
   "cell_type": "markdown",
   "metadata": {
    "id": "VAbjwZnXHj9Z"
   },
   "source": [
    "# **Question 17**"
   ]
  },
  {
   "cell_type": "markdown",
   "metadata": {
    "id": "PHSCttAtHnNA"
   },
   "source": [
    "Split the following array row-wise into 3 arrays of equal size."
   ]
  },
  {
   "cell_type": "markdown",
   "metadata": {
    "id": "-kMT_vg0-0BX"
   },
   "source": [
    "Run the following cell."
   ]
  },
  {
   "cell_type": "code",
   "execution_count": 17,
   "metadata": {
    "cellView": "form",
    "colab": {
     "base_uri": "https://localhost:8080/"
    },
    "id": "9wXUalKTHyXP",
    "outputId": "daf7bac8-77ca-4dc6-fa69-eaa5ba7c56da"
   },
   "outputs": [
    {
     "name": "stdout",
     "output_type": "stream",
     "text": [
      "x =\n",
      " [[1 9 6]\n",
      " [5 4 3]\n",
      " [5 2 9]\n",
      " [8 6 5]\n",
      " [6 4 5]\n",
      " [0 5 4]\n",
      " [3 3 5]\n",
      " [5 8 8]\n",
      " [4 8 4]]\n"
     ]
    }
   ],
   "source": [
    "#@title\n",
    "# DO NOT CHANGE the code below\n",
    "import numpy as np\n",
    "np.random.seed(34)\n",
    "x = np.random.randint(0, 10, (9,3))\n",
    "print('x =\\n', x)"
   ]
  },
  {
   "cell_type": "code",
   "execution_count": 22,
   "metadata": {
    "colab": {
     "base_uri": "https://localhost:8080/"
    },
    "id": "UbCw7KlyID0Q",
    "outputId": "01d275c5-699b-40dd-bfc3-4709f343b22a"
   },
   "outputs": [
    {
     "name": "stdout",
     "output_type": "stream",
     "text": [
      "[[1 9 6]\n",
      " [5 4 3]\n",
      " [5 2 9]]\n",
      "[[8 6 5]\n",
      " [6 4 5]\n",
      " [0 5 4]]\n",
      "[[3 3 5]\n",
      " [5 8 8]\n",
      " [4 8 4]]\n"
     ]
    }
   ],
   "source": [
    "# Replace (None, None, None) with your code below \n",
    "a1, a2, a3 = np.vsplit(x,3)\n",
    "# a1, a2, a3 = (None, None, None)\n",
    "print(a1);print(a2);print(a3);"
   ]
  },
  {
   "cell_type": "markdown",
   "metadata": {
    "id": "2YG0ePOfI_P6"
   },
   "source": [
    "The result of the above code should be:\n",
    "\n",
    "![image.png](data:image/png;base64,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)"
   ]
  },
  {
   "cell_type": "markdown",
   "metadata": {
    "id": "K056NPEp2k8z"
   },
   "source": [
    "*Test your code by running the following cell.*"
   ]
  },
  {
   "cell_type": "code",
   "execution_count": 23,
   "metadata": {
    "cellView": "form",
    "colab": {
     "base_uri": "https://localhost:8080/"
    },
    "id": "Z7dP6Pg92koM",
    "outputId": "2d1e7ca8-8022-497a-9110-b6667db48371"
   },
   "outputs": [
    {
     "name": "stdout",
     "output_type": "stream",
     "text": [
      "You are doing great!\n"
     ]
    }
   ],
   "source": [
    "#@title\n",
    "expected1 = np.array([[1, 9, 6],\n",
    " [5, 4, 3],\n",
    " [5, 2, 9]])\n",
    "expected2 = np.array([[8, 6, 5],\n",
    " [6, 4, 5],\n",
    " [0, 5, 4]])\n",
    "expected3 = np.array([[3, 3, 5],\n",
    " [5, 8, 8],\n",
    " [4, 8, 4]])\n",
    "try:\n",
    "  assert np.allclose(a1, expected1)\n",
    "  assert np.allclose(a2, expected2)\n",
    "  assert np.allclose(a3, expected3)\n",
    "  print(\"You are doing great!\")\n",
    "except:\n",
    "  print(\"Error: Please try again!\")"
   ]
  },
  {
   "cell_type": "code",
   "execution_count": 92,
   "metadata": {
    "id": "JZnwH8abIHXS"
   },
   "outputs": [],
   "source": [
    "# Explain your code below as comments\n",
    "# a1, a2, a3 = np.vsplit(x,3) command splits the 3X9 array into three equal array. i.e. three 3X3 array and each array is assigned\n",
    "# to a1, a2 and a3 . vsplit method of class numpy splits the array 'x'  in vertical manner "
   ]
  },
  {
   "cell_type": "markdown",
   "metadata": {
    "id": "nYMgACJXLKob"
   },
   "source": [
    "# **Question 18: Decorators**\n"
   ]
  },
  {
   "cell_type": "markdown",
   "metadata": {
    "id": "B-uGfdxLPP-j"
   },
   "source": [
    "Write a decorator for the square root function, so that it returns the following message if it is called with a negative number.\n",
    "\n",
    "\"Please enter a positive number. Can't find the square root of a negative number\""
   ]
  },
  {
   "cell_type": "code",
   "execution_count": 93,
   "metadata": {
    "id": "ToKxagoVLWY8"
   },
   "outputs": [],
   "source": [
    "def sqroot_decorator(func):\n",
    "  # Write code to decorate the sqrt_finder() function below\n",
    "  None"
   ]
  },
  {
   "cell_type": "code",
   "execution_count": 94,
   "metadata": {
    "id": "n9x2gX0nP12A"
   },
   "outputs": [],
   "source": [
    "# Explain your code below as comments\n"
   ]
  },
  {
   "cell_type": "code",
   "execution_count": 14,
   "metadata": {
    "id": "0iMQdulNMJZi"
   },
   "outputs": [],
   "source": [
    "# DO NOT CHANGE the code below\n",
    "from math import sqrt \n",
    "\n",
    "#Answer area starts ----\n",
    "def sqroot_decorator(func):\n",
    "    def inner_func(x):\n",
    "        if x < 0:\n",
    "            return(f\"Please enter  a positive number. Can't find the square root of a negative number i.e {x}\")\n",
    "        else:\n",
    "            return func(x)\n",
    "    return inner_func\n",
    "# --------Answer area ends\n",
    "\n",
    "@sqroot_decorator\n",
    "def sqrt_finder(x):\n",
    "    return sqrt(x)"
   ]
  },
  {
   "cell_type": "markdown",
   "metadata": {
    "id": "2ZhxXVWlPEF3"
   },
   "source": [
    "When you run the following code, you should get the result as follows.\n",
    "\n",
    "![image.png](data:image/png;base64,iVBORw0KGgoAAAANSUhEUgAAA4MAAAA0CAYAAAAwsO2qAAAABHNCSVQICAgIfAhkiAAAIABJREFUeF7tnQdYVEfXx/+7SxHFggUQQSMdAQsSQUXsYhSMPbG3aJQYeyyJMRrbG6NGYokxikrUxBILYI/tDb5qDPqpmBgTTaTZe4OF3flml7a7LOy9yy6BeO7z8Dzs3LlnzvnNmbkzd5qE8Qt0EQEiQASIABEgAkSACBABIkAEiMArRUD6SllLxhIBIkAEiAARIAJEgAgQASJABIiAmgB1BskRiAARIAJEgAgQASJABIgAESACryAB03YGs89gTogHvId8h3tmmnyqvBmD/l4eaLvwHLL1ZVgp6KAvWbOFvYjDGB83BEw9BrnZEiHBRKA0CChx56cojAlvAX8vd7i5upq1rigNiygNIkAEiAARIAJEgAiUZwIW+pXPwN73muD9/Zn6b8u8MC42HhN8ZPrvU6gwAooUHNuwE5drdsCIN31hI+wpikUExBEoI37GHu7FnPHL8ZN9BN6b2wbONlLI7BuhikScOWJjs2fXcWL3Duza/19cvJaCWw8VqOTkhaDOA/HemO5oYG4FxCpM8YkAESACRIAIEAEiUEoEiugM5qYuc0Srwf3wup1Oa01aE83s9QwqWjTDzGOXMUNiASszN/CK5FMWdChSOZ0bylQcXbsc232cMKAb7wz+U8yE6kvxyieBMuJn2RdP4swTa4TMnosx3WxLjWV24teYPHsPpJ7BCH0jFM5VFLiZeBD71kzBiYQ/seH7DxBYqdTUoYSIABEgAkSACBABIlBmCBTfGZTYo3n/SIx2EzoCKIHM0gpCY5uHQlnQwTyWkVQiUJ4JKJ49wXNmBVtbq1I1Q1ovHPO2T0GHJrVgmZcyi0TErDcxfMt6fLFrIL4dWJsWUJdqrlBiRIAIEAEiQASIQFkgoGd4T6xaClxf3QOefP2Pa+5fkWsG89a/TYnDhR1zMCQsCH7ePgho0x+fxF5HoUmpL65i97xhCAvyg7dvIDoNmY/46xkovBzRnDr8gViVDs24Dn6B6Dh4HuJOrUG/4tYtFoswG6dnt4SHipXXAGy+rYT8+DQ0dcvj54Xea5Oh1JXB5Eg5vBijujaHv08xzJCBG0dWYHK/jgjy91Hr3P6tKVidcAsKXZlifivv4Wz0DAzq3BwNvT3h0ygIbcIHYXLUUaTpKpudjuNfjsWbIY3g06Ax2rz1Ib47twPj/dzgN/5gwdrHotZDPt2NUbrrJNkTJO36AtNH9ESHlk3h5+UJ36Zt0DNyEeKuPtfrE0lLw+Dh2Qtrfr+Gg0vfQ/fQADTw9EbDFhGYsP1vDR5mYsZTEKyDgvPd8BEGhQXD39uL29YaPd5bjP3XXxbOJUFxjfSzwqnpDxGkA39Uncc5vt3g/QPIZI+x8x1vw3WF/lSNCpW91gpvaHYEVVIkVREc1hLVJXL8dVXTF4xKgh4iAkSACBABIkAEiEC5JFD8yCDvgDxMT8YNC80+Ix95q2wP5+oVcg2WwenNudjU+BmUit+wccJ8HDOA4sV/F2LqnZ54b85aTJFcR+zi2Vg/bSIcvHci0jN3XFGZjp2TBmLqESUa9Y7Ex02q4MHZ7Zg7IR0K3qupqpWGuXS4hbipgzH5QCZ8uo/CzGY18OT8TsyflI5s3gGqbMBO/bdlaDB0BTZ1zgRTXMb6cQtxvN5IrJzaGjkT56So/JpDoVGKzPPLEJlYC8E9R2Ki5G/8uPl7bNJlxrvTV6JHYuDCs6jQrA8GT2sIe3YL52I3YcmIRKSs3ol5be0gfjaqAn+uG4Nhn/2GOp2GYOIId1SW30Pq1UQcOZSA5Mh2qJPnIuwpTi0YgtExN1Gv0zBMb+0E+ZV4rIz8ERmFevv6CekNVd7E0ej1OFmxLTr2CoOrc3Xg7kXs27wOE99OwuMf1mNgfT1j0uwRjs0ejlRpOwybshgedgrcuXAIx+49zk3GXMw0rDCkA3uGM4sGYti6ZNiH9sf4oZ6wvnMWO2JWY9zbv2PBD6vRxyXXNsFxjfMzvex1AwXrwB+s0AKTNm7BEF5e5KeXYeTyJDSfshqjm+RUPdJqrqgm3iF1NTLiN8Pzu3f5SKUU7k72hcqbEQLpESJABIgAESACRIAIlD8CqkPnC18vWXykN6tfv76ePzfWdPoJJi/8EGNZp9nslu7Ma/AWdlepJ8LzWDbauz5ze30CO/CwIELW/33G2rt7sIiVf7Ds3McyTs9hoe7urPXMBPY0T5TyETs6tSVzr+/O2ixIZFl6kjClDvLE+awN16HltGPsUZ66ysfs+IyQ4nXQp5e+MPn/2MxgN+Y1bBt7oI+X6plcZq5+A9jGG3l0ePDxGay5DrPsv9ay3j7uLHhsLLup0Egw4yJb/IYH8wj/kv1eIEKfRvrDFCksuq8nc2/1KftZN+Ozs/PzTPWw4sY61sfLjTUa9j1Lz9chgyV9Ec746DHzHXeAZealorbNlTX54GhBmOrek11spG648jm7lfZAKy1V1Izzn7GOPI86Lb6kcy+bXVrSieeTK/PvH82u6eqdq4PZmKnlC9NBzYzb69d/IyvIYiV7kjCTtea2Nf/wBHueq6+YuLmPMCbEz/IjG/7HKB242BdxY5i3a2M2+Ui+BxhOzFwx5FfYqp4NmFujoey7VM3CYq4ESS4RIAJEgAgQASJABMoegeKnicrq4c2Pl2PlypUafyuwaECDEqwLlMCqSWu00BgOkNVzRV2ZErfTbuVOj+QjUSdPIh210eHNoNwRM97R5lO7Qrq3Qy09A0DiuuECdfgpAalwQMceIaiaN3ohqYIWEabQQYzGElgGdkN43ugQf9TGvxE8dZjdOBCPC1m1Eda/HeyyMpGZmfsHN7RpVRfs6mmcNebMD4kNKlWSQfngEk5deqB9pIdMpuELDI9/TsClLGs0i+gMx3zvsoZ3RFeUaPNZSUU4ONnlp8UU2ZDL+VCjmz98bJRIS07TPw2W51fbQX3hmr9YTJO7AmZjpplMsTowPDrDmck5sx4RKMhiCSoH9USYMx8APZmAK+pzVMTEFeNfYuKWBR3E6KsnLp9yfGbxJCy/aIt2H81Bn/xhbT1xKYgIEAEiQASIABEgAv9iAsVPE+WdL6/QznhD8AYywkhZV6kKa42oEpkFLCQMWVlZuWu/+FS+m3eglHrBubZ2f1VWp556SuI9YUkVGUuIDrdSb3IdPFHXWVcHF5PoUKRyem7Y1KgJW43pdBJLa75jqyYzJZKv87WGioeIGeCPGD0yYFEB9x/x+XoOInvTkuroEvkudlxYgag+wYh29kFDf1/4NW2LHr3aw6NKHp+cDn221A51nCppTUeVObnAiXvbn/r0EhTG8OTyTqxcsQUHf/4NaY8yoNBYPGotl6s7qYW2JpE58/WZeVOadRMyIzPNpAzocCf9FlTMXFwqa0/hldVB3Tq8E34+HbdUxlnwc/oEx9W11VS/y4IOBbbIH93C3WfZBWtGJRVQ3bEmKhbp4i+QtHYMIqPT4Ds2Gkt61y3Bhy1TMSU5RIAIEAEiQASIABH4ZwgU3xk0k06SEq0RKrx9jDFqCtdBomeNXYkMMEZdSKQC07Twx6ivPkFYdT3x+eha7bpFtpKL0UsC28Dx+P5Ed/xy4iecOX8eiScPY93+rVi/uT++2v4p2uQeP1J07hR9p1DCTFloQxjFtfV4t98CXKzVHkMnL0Wwuz1sLbmN2YlYPnwhTrGi5FvBWvPLQ6HEeIBZmGkmVLwORWmuT1UxcfU9b4qwsqBDjh3ZOLesFwbx9an5myNZtcDcE99igIMe/+ebK/0eMxYjFl2E8ztrsGZcACrri2YKSCSDCBABIkAEiAARIALlgMA/0hk0zEUGhzqOkPJNQ1Jv8pEsjWlcirRk9e6Vhtr3htMwFEMGR7UOaUhWJaipw80UpPOgQqNQhkTquS+8U6rnYa0gKVzqO0PKHiKrij+aNNE7L9KQkGLvS23roVlX1d9AHu8Ffl01FH2X/IBNxyajdc9qvNMshb2jPR/AuoG0dNUOn1XzO9KK9FSkq6c6alwyS1jyvmlWplyr86d4eB8PtLY+5bvF7t+FxJfuGB21EpP8CtyW3f4V8ixjuyfmZ1YsUPVNzqy2A2f2N1JSnoIFaWzwo1D5ngLSWrXhqDZZTFztlE3pZ8L1NWx9yWLI4PX2f7CqxcsC/+FnoDbQPRdVnUgm/vxuPIbN/Rm1hqxC9AfNoTdayRSip4kAESACRIAIEAEiUK4IFL9m8B8zRQb3li1Rh68a/DH+LJ7n6cG3pU/YfRR3S3RGglCjuA6tQuCMWzi85ySe5vc3+M6P8cdwxxQ6SG1RuZKEr8XjnR/d4xmEqpkfT4bXOnWBn0U69ny9AzeydAVk4V7qLeg5qEA3op7fmXjyhO9+qnWnIuq6OcGaj6wwZd4dCaoFtYSvZSZ+jj8MfmpG7iXHlfi9+E2XmcwBTvZSZFy5iKv5+mbxjt9+/KoTNzOvw6jVq3mJpC1b8UshW/WYoDfInMz0JqgnUAK7oBD4qZjtikNKvt0MT8/sxMFUhprNQ+Ct7gyKiauRlEn9zEgd9Fhe8iCui3crdOzUCZ3y/joEwLnQVxo5rm+bgCGfnETVASuw/sNQ1CijNV/JmZAEIkAEiAARIAJEgAgIJ1DykcEXaUhKSsEzVcOfHy1xK5NB+egvJJ4+rd50RSKrCc9Ad9Ff4a2aDse49rGYunkchmaNQI/GlfnREtuw8ZgclXUbcmbSwbLJCEwMi8PkrZP41vgj0S+4Fp6e34Ho40pUN2a2pW6+yNzQLLAmvt4Rg0+X2KF/M0dUkEhR1e11NHYuap2brpCC3zK3wZg78QQGL5qFXr1Po29EMOrbZuJu8jVcOnUEJy1GIH7rCNTV5Ve0yJw7imtY138w9tfqiM4hDfFaTWtkpCVi98a9eFyjMz+/TzUqmHPJ6vXF+322YNR3/BzJ8SkYGFobmb/FY+O+2+p8y9BMy8IXHTu4YN26DZgwlmFAqCMyrh7CzsQM9eYzeYc/gK/q8mzXHq5r1iB6wlgoB3WAe8VnuPbTDmxLyoaLjYRv9GPcZTZmItSR1u2LSQO3YfiG/2DwyFR+1qBHztESG3YitWoo5o4JQcVceWLi5qtgYj8zSgcRPEwd9UXCPAydeQh37ILRvnoStq5K0krCwi0M77zhgZJXhqbWnOQRASJABIgAESACRMC8BErc/lGk7sKMgUtxWXMK4P21GDNgrVpzScUIrDoXhbBCX+sNGCZ1Qo+lmyBZsgCrY5djzq4KcAnsgVnL7LFl+Od8vK7gMp8Ojui26Fswx/lYuWc5Po61gUvTnpixqC2+Hfo57vGdNEu25KgiQj+IwtSXi7Bl66cYu4ZviqK0QMCHh7HtnbpGnH1mA99R0djlsR4romOxe8Vh3M+0RDUHZ7g34get92gPPhAn/pLWRkivN3B1/1nsWr0Xd/nmLRbVnOETPAbLJ4zGG/YaFPimQ61nfYtV1ecjans05v/Ipzb6hmHUCr7ecOg0HNFK3QoB47/E7IezsOpgND4/XQOeoQMwO8oeMeHT8ItGXKsmE/DNcikWLN+JjfN+hNzGAd6hb2NRtBf29hxjdGeQ78tqHmZiKEsqo/mMTdjgtARffr8HX8x6CEVFB3gGj8KySWMRrrnOU0zcfB1M7GdG6SAGiCnjMmSkp+BONoPi7ilsWnaqkHDrTnUxmDqDhbhQABEgAkSACBABIvDvJyBRnXbx7zfTtBYqfv8S3SJWwmaqsZ020+pTLqTJD2J8QCSOtF+Fc1FhJllvWS7sJiWJABEgAkSACBABIkAEiEAZJWDMOFEZNcU8aikUugvdFEjj575dZ04ICHAyYvTOPHqSVCJABIgAESACRIAIEAEiQASIgBgCJZ4mKiax8hdXgctR/TDzD390adcUHtWluJ+0F+u+OQ/btgsxpDHhK395ShoTASJABIgAESACRIAIEAEioCJAvZli/UCCWv6BqMM3X4n5z1bcf6pERUdPBA9ehpVju2qeNlGsFLpJBIgAESACRIAIEAEiQASIABEoawRozWBZyxHShwgQASJABIgAESACRIAIEAEiUAoEaM1gKUCmJIgAESACRIAIEAEiQASIABEgAmWNAHUGy1qOkD5EgAgQASJABIgAESACRIAIEIFSIECdwVKATEkQASJABIgAESACRIAIEAEiQATKGgHqDJa1HCF9iAARIAJEgAgQASJABIgAESACpUCgVDuD8gPvo4GbK1xdc/7cm07F8axSsJKSIAL/JIHsM5gT4gHvId/hHjOhIuaSa0IVy4Sop7sxyscdgTP+C6puykSOmFkJJe78FIUx4S3g7+UON/6+KbLslUIZUt6MQX8vD7RdeA7ZZrYcL+IwxscNAVOPQW7utEg+ETArARHl2Kx6kHCUQj35r6BcjtsaBjuD7NkJLBo8EFO3/wXd49fVmSffj7E+BR08Vzd3ePo2QYvOAzApaj/+fFHQ+rUMGoeNW7Zgy5ZojA20/FfkfZk0QpGCY+uisGLPZbwskwqSUnoJUL7pxUKBAgi8+Bs/rpqKQW+0QJMGnvDya4YOb0/AkrgreG7KDxAGVGGPdmC4twfClibpf1/kPW9GX2cP92LO+OX4KTsIkXOXYFlUFJZGtkQViQHly/ptMzIr66aTfqVIoIz42b+2HJdiVhaZVBnJ4yL1oxsmIWCw/6aRisnOGZQ5tsGIoc1RQ8KQ9TQdl47EIe7L93H87MfYtnEI3GWAxM4Drwd58ORf4A4/wB3XTGIvCdEloEzF0bXLsd3HCQO6+cKmvDeCdO0rb78tmmHmscuYIbGAVXF5ITbfhMotb7xIX1EE2OOfsXT4KHz1f9mo26ob+kXUQxX5Hfx26jBi1h3Fm1281fVvmbrE+roI5bMvnsSZJ9YImT0XY7rZFv9keSpDZmRWPCS6+0oRKCN+Jqocv1IZZAJjxeZxeaonTYDnVRRhss6gpGYgeo8YWdDoGDsAawZ2x2dnvkbMz/3xaXMaCXwVHYxsVhGQQGZpBdO3x80ll3Kt3BBgT/HfzyZj9QUJgqZvx9qRPrDJU37CdNz+Mx02Bud/lBtrBSmqePaEj4ZawdbWSkB8KkMCIFEUIlDqBMSV41JX7xVLkOrJf3uGm6+ZYOWKdm3cIFM8wI0bT2DcTKUM3DiyApP7dUSQvw+8/QLR/q0pWJ1wS3sKEnuCpF1fYPqInujQsin8vDzh27QNekYuQtzV54XTVt7D2egZGNS5ORp6e8KnURDahA/C5KijSFPqZrlAHXQfM/hboNy8NSBT4nBhxxwMCQuCn7cPAtr0xyex15GZn042Ts9uCQ/VekyvAdh8Wwn58Wlomr9G0wu91yZD2zyBOqjTUCBpaRg8PHthze/XcHDpe+geGoAGnt5o2CICE7b/Xfy0MH08xOabPhl6wtj9rRjq7Y7gqVsQv2gkugT7wdunCVr3moivT90trKeC+8OGjzAoLBj+3l7cd1qjx3uLsf+6nkm2gn1Hgeure8Azd32sap2s/nVLYvNNoFz2EHGRjeHeKBJxj3RLX25eenTG0suak7/F+IMe8PqCBPsvf7io9U7qefga66CUyVjXxwteb32MxSPbobFvADqN3YzEM2swsl1jNPAPxeAVv+CprtnKh/glejJ6tWoEnwaN0arHOKz8SacuUdsghoMZyoU+jkWEsbv7sCE2HXAbgOnDNDqC6viWcHDno4R5o9FiypuYfCtCt8LBYn29sIQiQ9T65ixXaPD+AWSyx9j5jnf++nTtsiewDKkSE8vhxVXsnjcMYUG8zvENRKch8xF/PaPwO6hIQ3RvGMmMyZFyeDFGdW0Ofx9974u8dMT4uq5uxfwWXE9yGdnpOP7lWLwZklMu27z1Ib47twPj/dzgN/5gwdpHofWDSi0xvq42Q0w5NhMzMTqIeWcJimuknxXjAlq3BOnAnxBVjoUmbow/CJQttn4Q82558QdiVXVJM16X8LZvx8HzEHdqDfrprj8W7Oti81hgPUltjX9FW8PgyKBEWhHVaztBUtmKj2+IuV4i+e/bUEqsUK2ajchnVelk4kr0SAxceBYVmvXB4GkNYc9u4VzsJiwZkYiU1Tsxr61djlzlTRyNXo+TFduiY68wuDpXB+5exL7N6zDx7SQ8/mE9BtbPG5dR4M91YzDss99Qp9MQTBzhjsrye0i9mogjhxKQHNkOdfK7yCJ0EINGjG25cl/8dyGm3umJ9+asxRTJdcQuno310ybCwXsnIj1VtsnQYOgKbOqcCaa4jPXjFuJ4vZFYObU1ciZKSVH5NQcU9P6NtI09wrHZw5EqbYdhUxbDw06BOxcO4di9x6IIqCOLyjex4hnux87DgqB38cnX0+Am/QsHvviEdx5G4OXmbZjQqEKOQPYMZxYNxLB1ybAP7Y/xQz1hfecsdsSsxri3f8eCH1ajj4sxviOD05tzsanxMygVv2HjhPk4ptcEsfkmUK7EDq0jWqPKoWOIP/YI4T1yy4pKB+4f+/Zfh8TrfXT1zrPNSH/Qa1PhQMP+W/gZQyHZ5xPw18TRGF9rM5Zs+xSDzzZEn/dmIPJ/KxC1chlie8dggGOexzM8PzIf4874ovvQGegrTcaxzTH4YtTveLxhJz4MqpSbnJEcTFkuDBmucf9l4kkkvpSidqs28DFUmxtR3sTmm0RWGbXru0JqZ63HCrG+rkdEUUEVWmDSxi0Ywr92yU8vw8jlSWg+ZTVGN8mBIq3mimr5LzCBZUgjLUEclOnYOYmvrz+iRKPekfi4SRU8OLsdcyekQ8G/uVQtSvdiw41jlnl+GSITayG450hMlPD1pJu/xyat94UqUSN9vVh9VTdFvGP5yPapBUMwOuYm6nUahumtnSC/Eo+VkT8io+BLp8EUC0UwwtfVMgyWY3Mx07DAkA5i3lmC4xrnZ4W46wsQrAN/WFQ51pdYEWHG+kMR4nSDBdUPYsqb8hbipg7G5AOZ8Ok+CjOb1cCT8zsxf1I6snkdV1lTAcG2ic1jgfUktTXKbFtDVP+NlfTK3Mfe867P3DsvZAk3UlhKSjL7+7czbM/SoayFhytzC5rADjxQ6qTynO1515u5BXzAjsn1K5D911rW28edBY+NZTcVGnEyLrLFb3gwj/Av2e/ZueHK5+xW2gOW9zMvdsb5z1hHd3fWafGlgnuKFBbd15O5t/qU/aybdna2lgxROug3Q2+oKLnPY9loztftdc7xYQHHrP/7jLV392ARK/8oZDeT/4/NDHZjXsO2sULoczUSpYP6mWx2aUkn5l7flfn3j2bXdNnptdRAoJh8MyBK87by3vdsiBdn1iSSxWoAUD6IY+8FuDG/d3awe7koFTfWsT7ersyv/0Z2I9+BlOxJwkzWmvtO8w9PsOd5wkX4jpa6WafZ7JbuzGvwFnZXtyhoRhSQb6LkPjvEJjV1Y74jtufbq3o+69xC1o77zptf/ZnvO+L9QWCGiPFfdVxX1uSDoyxTU/yTXWykZrjiBlvb25N5dI1iV3ieKe9vZUO9XFnD8QfZC5V9v8xjrT0C2fQTuU6qfr4+c/Xpzb7+MytfcnbKJjbIz4359I9hqbl1jHgOZigXAtGqyuT11d2ZR31P1m9jOtOsJvWKEFPexOSb3sQMBIr1dQPiNG+/iBvDvF0bs8lHtLxIvwRDZVMEh4zTc1gorzNaz0xgT/NSUz5iR6e25PWmO2uzIJEVeJ9+dYoNFcIsV19XvwFsY0GFxp4fn8Ga67wvxPt6sdoV3BRRT6rrXy831mjY9yw934EzWNIX4YzPqmC+4w4U1AVC6weVJmJ8Xa25sHJsNmYidBDzzhITNz8DhfhZQW4b/M8oHbhUUeXYkBai/cGQwNz7IuoHMb4jT5zP2vC6pOW0Y+xRXptB+ZgdnxFSuC4xxjaxeWyonqS2Ro5DlOO2hsmmiSp+X4NBbUIRGtoabbu8jQkrEvDCLRwfrZ6DTnbixhRVXxZvHIjHhazaCOvfDnZZmcjMzP2DG9q0qgt29TTO5u3TL6kIBye7/DVZTJENuZx/VnTzh4+NEmnJaQVTAyU2qFRJBuWDSzh16YH2Vt8ymca6LpE66H4qKvK3MXIlsGrSGi0KPm1DVs8VdWVK3E67pTP1s8iENW4Yo0Pu45IqaDuoL1xNsQRUTL4JMUsrjgSWjdsiRIOZpFpLtGlkiRdnE3AuQxWZ4dGZBFySW6NZjwjkDwDy8ebKQT0R5swHmE8m4ErefvCCfUe0suZ5oFJLRHSogczT+3Ak/0yLLFzYdwDJ0kYIf6N+rr+XwB8EaW5q/81JVGpXE6p9qCS21WFnJYVdrZp8YiT/XbU6H4V5hkePtQ+SsGgUjvD6BcNnsjpd0O11S2T+XwLOqueUloCDKcuFIKY5kV6+VE1BlKCCTQXDsy9Elzfz5JsI88pIVCEc+GjYyZNIR210eDModzaG2hkR0r0dapl+wXAxbHjdF9gN4QUVGmz8G8FT631RAl8vJmX1LcH1JMPjn3n9m8Xr34jOyB/EhzW8I7rCpyTMRPt6rlHFlmMzMtNkWqwOYt5ZYuIaylRj75cFHVQ+KaKNKNpUYfWD8DYtr0t+SkAqHNCxRwiq5jWfuV+0iNBTl5jVNoEwqK2hBao8tjUMTSwS6Al8kmLd7vh4RmfUlkphYW2LGi5e8K5vByFL+AsnokTydb6+TfEQMQP8EVM4AmBRAfcf8fFyB9Ubg+HJ5Z1YuWILDv78G9IeZUChsV7IWi5Xd/rUukiqo0vku9hxgU8l6xOMaGcfNPT3hV/TtujRqz08quT1j8XqoE9JfWHGybWuUpW/IgsuicwCFqqdW7OyjFiPYpwO6tRlznxdYu4US33miQoTkW+i5KoiS1DJvhZsNb9DSGxRy74SJC9v46bKd2wY7qTfQrbUDi4ulbUb07I6qFuHfzQ4n45bKudRlRTBviNaWTM9UBHB4R1R64dd2PvjbfTu5wip/Dz2HUqDRcAwdHYxt68XmGVa/82Va2mpzhZ42bvqAAAMhklEQVTwXVotLCX8zyInDy1k6vCsLM1T3SSwqeOMmpqfv7g/1HHm02f5GuSbd7k/VC0r5UK4O1SooOoEMmSoO4Uqry/uEl/ezJJvxalYRu8Z5sCny9+8A6XUC861tb+xyurUUy89uFeKttnUqKlV90ksrflOxprvixL4uiE7BNeTOR8zVfVvHSdeL2vIlTm5wIkX4j8NpVXkffG+rhZV7PvNjMw07TCgg/B3Fj+nT8z7rUiWJblRFnRQ6W+kPwg03XD9IMZ3FLiVepPXJZ6o66xbl7joqUvMa5swBNTWKOBUPtsaJusMSqq4o0WHTqbdwtzCH6O++gRh1fU0cfjXkNp1cz4dKq6tx7v9FuBirfYYOnkpgt3tYcsbh8hOxPLhC3GKae4kIYFt4Hh8f6I7fjnxE86cP4/Ek4exbv9WrN/cH19t/xRtNEcyBeogrMBoxBIpV6IHgeg0dR8QqUPO41aw1rccSFe2gN/i8k2AQJ0oSqXuDiL8laBUbaHDkOcShWMUl45I3ylOVCndq9AsHGGOW7F17xHcfmsAqifuxcF0KwSOCoOT9nuGd3iFlTdjVC+R/zKluA8e6sR4zvJM1u4gFVWIJNDSzygOpisXwvnK4FjXGdaSJKTy2Q9KPiqlm6WasowpbyXKN+GGlPmYJeMgrpYxBQyJtChf15FulK8b0lB4PVk0maLvFEpdT/1gjK/nyBVQjs3CTNOq4nUQQUZcvVkIrGkCxOhrmhQLSzHeHwrL0hciuH4Q5Dt5m7rx91KhxAqHmNu2QioUEUBtDc2PsYXzKQdb2W1rmKwzWIR/FBEsgZS/rBhvrGv10/JjS+FS3xlSvktRVhV/NGlS3JxEvuPR/l18EwV3jI5aiUl+BSax279CnqW/KpLa1kOzrqq/gTzVF/h11VD0XfIDNh2bjNY9q/FCKEaHIszUG2wuudqJFV85lY4Oes3PDzQu34qXqXlXiecpN6Aa8Mnv9CjvIyWV7y5bwR6O1VTNZgb72g6wUP6NlJSnYEGam6ykITlNAWmt2nDUKSWGfUe4lroxi8833dgCfls1RUTnOti0KR6HbvaA+77DuG0dhHGdNDcTKgv+wG2RWcKSf9/JypRrNWIUD+/jgeampwLMLhyF4WVaCu5p+gPf2CAt9SGYVUM45c7jE17vFE7hnwipENAcTSrsw6mEE3w6cyA0qj8ddcxd3sRbb3JfF6+CCZ+QwaEOH3nnmzmk3uROVrALGRRpyepdqk3xDc10zMxf5g3Xk1LYO9rz+vcG0tJVu35XzW/8KtJTka45sK/KKcH1g7l83fzMDDskZyb4nSUmrnbKpvQz4foatt64GObyBzHaiPEd/pFPXZeo2iA6dcnNFKTzoIIZd8bbZro8zuVAbY1cEOWzrVHch2Qxni4yriV/CVSH9MXf+IsfgVD4kuG1Tl14wyYde77egRvaS3949CzcS72FvI3/M/Maj1re/RJJW7bil0LPZuLJE77jplaiFVHXzYl/YVeNHOXdEadDYRuKCjGXXI30pLaoXEnC10XyRrQ+vHylmBi+RVlS0nBx+SY+tewLcYi7XtCiUNzYi/gLCtg0DUGA+jA2CeyCQuBnmYmfd8UhJb/DwfD0zE4cTGWo2TwE3vmdQaG+I15X9RMG880YuZZoGN4Fr2Wfx97duxD7413Y8KNAOtTU/HJVNvwBMgc42UuRceUiruaX2yz+sWc/fi1xZ5BPFLgQj/i/CvxBeXM/4nkFUaFJK7yu3nK3dDg8P7Uak8aNw4T5cUguoV1Sh64Y0tWBz6fbjM9irvKNyzWvbNz9Kzl/22tzlzdR3mkWXxelgYkjy+DesiXq8FWDP8afxfM86fyIi4TdR3G3hPmsFmdSZub0daH1pATVglrCV1X/xvOPVPnvKjmuxO/Fb7rMRNQP5vF1czIT6o5i3lli4mqkb1I/M1IHoTgExjOPPwhMXB1NjO/wuqRVCJxxC4f3nNQ4toDvfB5/DHd0yoVRtpk0j/M4UFsjj0RZaWuI8dB/aGTQAo26dIbLtxuwaspcoE8jVLfgG0D4tkOoh63666DMbTDmTjyBwYtmoVfv0+gbEYz6tpm4m3wNl04dwUmLEYjfOgJ1pTJ4tmsP1zVrED1hLJSDOsC94jNc+2kHtiVlw8VGwhfialyKa1jXfzD21+qIziEN8VpNa2SkJWL3xr14XKMzPztPNSqYcwnXQQxyMbaJk5sfW+aGZoE18fWOGHy6xA79mzmigkSKqm6vo7Fzzno/c9kmXGOR+SZccG5MCaxt/saad0bh/uAwuPPt1Q/HbEQi88K7Y8NRKzeTpXX7YtLAbRi+4T8YPDKVnzXokXO0BD9uILVqKOaOCUHFvLRF+A5epCEpKQXPVA0cfrTErUwG5aO/kHj6tHpBuERWE56B7tDaW0lAvhkj18IvHF3cvsGq1Z/h14xKCI1oq50uV/Gf9weuhIUvOnZwwbp1GzBhLMOAUEdkXD2EnYkZ6s0ljDi8RMNr+CL/in/jmxGjcE/lD+qjJTYiIdsDI8f34Gudc6KanwNDZsoZ7Is/AYW7C0ZMjxDt2VoP8A1K2s1YjOFXRmPtgt6IONkdXYNeg638Nq6cOoQjz/tg+w+RqMw3xxJVT5ZMK8NPC/F1w1KMi2FM2RSQklXT4RjXPhZTN4/D0KwR6NG4Mj9aYhs2HpOjsik+u5qYmdl8XUQ9KavXF+/32YJR3/EzdMenYGBobWT+Fo+N+26rmWl93BBcP5jP183GTIB/5UUR884SEzdfBRP7mVE6iOBhOKr5/MFw2gUxxPiOZZMRmBgWh8lbJ/HjckaiX3AtPD2/A9HHlaiutbGSkbYJyWMj6klqa6jyu6y0NcR4Z862GOKeMFFs68BJ+GrBS8xasQufTY9BllKGRlMPIIR3BnN83Qa+o6Kxy2M9VkTHYveKw7ifaYlqDs78IG1+yHmP9uCDCOrLqskEfLNcigXLd2LjvB8ht3GAd+jbWBTthb09x2h3BqW1EdLrDVzdfxa7Vu/FXb7ZjEU1Z/gEj8HyCaPxhr3miIlwHcRhMZfcPC0qIvSDKEx9uQhbtn6KsWv4hjpKCwR8eBjb3qmbu67I3DoYJiIq3wyL04khQZWwj7HI5TAWr52HmIcy1PLpiMnzP8SonGHBnPiSymg+YxM2OC3Bl9/vwRezHkJR0QGewaOwbNJYhOeuS1VHFuE7itRdmDFwKS5rTnW6vxZjBqxVi5JUjMCqc1EI09phyXC+GSVX5oWuXb3x1ReXkWEXgW5tCj54FED75/1BNfklYPyXmP1wFlYdjMbnp2vAM3QAZkfZIyZ8Gn4pUNaI//iGQu0/wpceJ3i9MB8x9ySo6dMek9bMwLuB+d19LrcscBBnnsSuBaZ/vwsB675CDB9h2fC/+3ghrQwnn+Z4e0ib/F0azVvexOkM/onFcB0lVqaw+EaVISGipU7osXQTJEsWYHXscszZVQEugT0wa5k9tgz/nH/nL+llamZm8nUR9aRqt9XWs77FqurzEbU9GvN/5FMbfcMwagVf0z90Go5oIRNeP5jP183ETIxriHlniYmbr4OJ/cwoHcQAMRzXfP5gOO2CGCJ8R+qIbou+BXOcj5V7luPjWBu4NO2JGYva4tuhn+Me/7iX11I1zjbDeWxUPUltDZ7d5bOtIVEdjiHGnSkuESjrBNj9rRjW8iNc6bMRP81tqT5ugC4iQASIABEoJwTkBzE+IBJH2q/CuagwI3clLye2kppEQCABxe9folvESthM1fywL/BhikYEiiFgiskrxYinW0SACBABIkAEiAARIAJEgAgIJaBQ6C6aVSCNn3t8nTkhIMCp2J2jhaZB8YhAHoF/aM0gZQARIAJEgAgQASJABIgAESAC2gQUuBzVDzP/8EeXdk3hUV2K+0l7se6b87BtuxBDGlPTnTzGtATIo0zLk6QRASJABIgAESACRIAIEAEjCUhQyz8QdfhmiTH/2Yr7T5Wo6OiJ4MHLsHJsV82Ta4yUT48RAW0CtGaQPIIIEAEiQASIABEgAkSACBABIvAKEqA1g69gppPJRIAIEAEiQASIABEgAkSACBAB6gySDxABIkAEiAARIAJEgAgQASJABF5BAtQZfAUznUwmAkSACBABIkAEiAARIAJEgAhQZ5B8gAgQASJABIgAESACRIAIEAEi8AoSoM7gK5jpZDIRIAJEgAgQASJABIgAESACRIA6g+QDRIAIEAEiQASIABEgAkSACBCBV5AAdQZfwUwnk4kAESACRIAIEAEiQASIABEgAv8PdDy64B9oMsQAAAAASUVORK5CYII=)"
   ]
  },
  {
   "cell_type": "code",
   "execution_count": 15,
   "metadata": {
    "colab": {
     "base_uri": "https://localhost:8080/",
     "height": 193
    },
    "id": "378UKXoGOUBS",
    "outputId": "7b6e7c78-11e8-49db-d195-eaf172eda284"
   },
   "outputs": [
    {
     "data": {
      "text/plain": [
       "\"Please enter  a positive number. Can't find the square root of a negative number i.e -2\""
      ]
     },
     "execution_count": 15,
     "metadata": {},
     "output_type": "execute_result"
    }
   ],
   "source": [
    "# DO NOT CHANGE the code below\n",
    "sqrt_finder(-2)"
   ]
  }
 ],
 "metadata": {
  "colab": {
   "collapsed_sections": [],
   "name": "Python_Numpy_Exercises_V2_HK.ipynb",
   "provenance": []
  },
  "kernelspec": {
   "display_name": "Python 3 (ipykernel)",
   "language": "python",
   "name": "python3"
  },
  "language_info": {
   "codemirror_mode": {
    "name": "ipython",
    "version": 3
   },
   "file_extension": ".py",
   "mimetype": "text/x-python",
   "name": "python",
   "nbconvert_exporter": "python",
   "pygments_lexer": "ipython3",
   "version": "3.9.7"
  }
 },
 "nbformat": 4,
 "nbformat_minor": 4
}
